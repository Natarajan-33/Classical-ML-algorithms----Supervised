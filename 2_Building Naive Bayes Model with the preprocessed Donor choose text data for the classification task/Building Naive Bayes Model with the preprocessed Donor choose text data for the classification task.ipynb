{
 "cells": [
  {
   "cell_type": "markdown",
   "metadata": {},
   "source": [
    "# Problem Statement\n",
    "- The goal of this Kaggle competition(our project) is to predict whether or not a DonorsChoose.org project proposal submitted by a teacher will be approved, using the text of project descriptions as well as additional metadata about the project, teacher, and school."
   ]
  },
  {
   "cell_type": "markdown",
   "metadata": {
    "id": "Dnubs-Nnb3cw"
   },
   "source": [
    "#  Naive Bayes"
   ]
  },
  {
   "cell_type": "code",
   "execution_count": 331,
   "metadata": {},
   "outputs": [],
   "source": [
    "%matplotlib inline\n",
    "import warnings\n",
    "warnings.filterwarnings(\"ignore\")\n",
    "import math\n",
    "import pandas as pd\n",
    "import numpy as np\n",
    "import nltk\n",
    "import matplotlib.pyplot as plt\n",
    "import seaborn as sns\n",
    "from sklearn.feature_extraction.text import TfidfVectorizer\n",
    "from sklearn.feature_extraction.text import CountVectorizer\n",
    "from sklearn.metrics import confusion_matrix\n",
    "from sklearn import metrics\n",
    "from sklearn.metrics import roc_curve, auc\n",
    "import re\n",
    "# Tutorial about Python regular expressions: https://pymotw.com/2/re/\n",
    "import pickle\n",
    "from tqdm import tqdm\n",
    "import os\n",
    "from collections import Counter\n",
    "from sklearn.model_selection import GridSearchCV\n",
    "from scipy.stats import randint as sp_randint\n",
    "from sklearn.model_selection import RandomizedSearchCV\n",
    "from sklearn.naive_bayes import MultinomialNB\n",
    "from sklearn.feature_extraction.text import TfidfVectorizer\n",
    "from sklearn.model_selection import train_test_split\n",
    "import numpy as np"
   ]
  },
  {
   "cell_type": "markdown",
   "metadata": {
    "id": "FYqCIxzFb3c5"
   },
   "source": [
    "##  Loading Data"
   ]
  },
  {
   "cell_type": "code",
   "execution_count": 293,
   "metadata": {
    "id": "dA1jknyqb3c_"
   },
   "outputs": [],
   "source": [
    "import pandas\n",
    "data = pandas.read_csv('preprocessed_data.csv',nrows=100000)   #taking 100k rows"
   ]
  },
  {
   "cell_type": "markdown",
   "metadata": {
    "id": "WtVV13Fyb3dH"
   },
   "source": [
    "<h2>Splitting data into Train and test</h2>"
   ]
  },
  {
   "cell_type": "code",
   "execution_count": 294,
   "metadata": {},
   "outputs": [
    {
     "data": {
      "text/html": [
       "<div>\n",
       "<style scoped>\n",
       "    .dataframe tbody tr th:only-of-type {\n",
       "        vertical-align: middle;\n",
       "    }\n",
       "\n",
       "    .dataframe tbody tr th {\n",
       "        vertical-align: top;\n",
       "    }\n",
       "\n",
       "    .dataframe thead th {\n",
       "        text-align: right;\n",
       "    }\n",
       "</style>\n",
       "<table border=\"1\" class=\"dataframe\">\n",
       "  <thead>\n",
       "    <tr style=\"text-align: right;\">\n",
       "      <th></th>\n",
       "      <th>school_state</th>\n",
       "      <th>teacher_prefix</th>\n",
       "      <th>project_grade_category</th>\n",
       "      <th>teacher_number_of_previously_posted_projects</th>\n",
       "      <th>clean_categories</th>\n",
       "      <th>clean_subcategories</th>\n",
       "      <th>essay</th>\n",
       "      <th>price</th>\n",
       "    </tr>\n",
       "  </thead>\n",
       "  <tbody>\n",
       "    <tr>\n",
       "      <th>0</th>\n",
       "      <td>ca</td>\n",
       "      <td>mrs</td>\n",
       "      <td>grades_prek_2</td>\n",
       "      <td>53</td>\n",
       "      <td>math_science</td>\n",
       "      <td>appliedsciences health_lifescience</td>\n",
       "      <td>i fortunate enough use fairy tale stem kits cl...</td>\n",
       "      <td>725.05</td>\n",
       "    </tr>\n",
       "  </tbody>\n",
       "</table>\n",
       "</div>"
      ],
      "text/plain": [
       "  school_state teacher_prefix project_grade_category  \\\n",
       "0           ca            mrs          grades_prek_2   \n",
       "\n",
       "   teacher_number_of_previously_posted_projects clean_categories  \\\n",
       "0                                            53     math_science   \n",
       "\n",
       "                  clean_subcategories  \\\n",
       "0  appliedsciences health_lifescience   \n",
       "\n",
       "                                               essay   price  \n",
       "0  i fortunate enough use fairy tale stem kits cl...  725.05  "
      ]
     },
     "execution_count": 294,
     "metadata": {},
     "output_type": "execute_result"
    }
   ],
   "source": [
    "y = data['project_is_approved'].values\n",
    "X = data.drop(['project_is_approved'], axis=1)\n",
    "X.head(1)"
   ]
  },
  {
   "cell_type": "code",
   "execution_count": 295,
   "metadata": {},
   "outputs": [],
   "source": [
    "# train test split\n",
    "X_train, X_test, y_train, y_test = train_test_split(X, y, test_size=0.33, stratify=y)\n"
   ]
  },
  {
   "cell_type": "markdown",
   "metadata": {
    "id": "EnZwVNULb3dO"
   },
   "source": [
    "<h2> Make Data Model Ready: categorical, numerical and text features</h2>"
   ]
  },
  {
   "cell_type": "markdown",
   "metadata": {},
   "source": [
    "## 1. Encoding text feature using BOW vectorizer"
   ]
  },
  {
   "cell_type": "code",
   "execution_count": 296,
   "metadata": {},
   "outputs": [],
   "source": [
    "feature_names_with_bow=[]  #to store the name of all features for set1 "
   ]
  },
  {
   "cell_type": "code",
   "execution_count": 297,
   "metadata": {},
   "outputs": [
    {
     "name": "stdout",
     "output_type": "stream",
     "text": [
      "(67000, 8) (67000,)\n",
      "(33000, 8) (33000,)\n",
      "====================================================================================================\n",
      "After vectorizations\n",
      "(67000, 10000) (67000,)\n",
      "(33000, 10000) (33000,)\n",
      "====================================================================================================\n"
     ]
    }
   ],
   "source": [
    "print(X_train.shape, y_train.shape)\n",
    "print(X_test.shape, y_test.shape)\n",
    "print(\"=\"*100)\n",
    "\n",
    "vectorizer = CountVectorizer(min_df=10,ngram_range=(1,2), max_features=10000)   #BOW vectorizer\n",
    "X_train_essay_bow=vectorizer.fit_transform(X_train['essay'].values) # fit has to happen only on train data\n",
    "# Append the items to NumPy array using numpy.append() method reference taken from: https://itsmycode.com/numpy-ndarray-object-has-no-attribute-append/#:~:text=ndarray%20does%20not%20have%20an,provided%20by%20the%20NumPy%20library.\n",
    "feature_names_with_bow = np.append(feature_names_with_bow,vectorizer.get_feature_names_out()) #append the all feature names to keep track of feature name in same order\n",
    "\n",
    "X_test_essay_bow = vectorizer.transform(X_test['essay'].values) # we use the fitted CountVectorizer to convert the test text to vector\n",
    "\n",
    "print(\"After vectorizations\")\n",
    "print(X_train_essay_bow.shape, y_train.shape)\n",
    "print(X_test_essay_bow.shape, y_test.shape)\n",
    "print(\"=\"*100)\n"
   ]
  },
  {
   "cell_type": "markdown",
   "metadata": {},
   "source": [
    "## 2. Encoding text feature using TFIDF Vectorizer"
   ]
  },
  {
   "cell_type": "code",
   "execution_count": 298,
   "metadata": {},
   "outputs": [],
   "source": [
    "feature_names_with_tfidf=[]  #to store the name of all features for set2 "
   ]
  },
  {
   "cell_type": "code",
   "execution_count": 299,
   "metadata": {},
   "outputs": [],
   "source": [
    "\n",
    "vectorizer = TfidfVectorizer(min_df=10,ngram_range=(1,2), max_features=10000)                 #TFIDF vectorizer\n",
    "\n",
    "X_train_essay_tfidf = vectorizer.fit_transform(X_train['essay'].values) #fitted only the train data\n",
    "X_test_essay_tfidf = vectorizer.transform(X_test['essay'].values) # we use the fitted TfidfVectorizer to convert the test text to vector\n",
    "\n",
    "\n",
    "feature_names_with_tfidf = np.append(feature_names_with_tfidf,vectorizer.get_feature_names_out())#append the all feature names to keep track of feature name in same order\n"
   ]
  },
  {
   "cell_type": "code",
   "execution_count": 300,
   "metadata": {},
   "outputs": [
    {
     "name": "stdout",
     "output_type": "stream",
     "text": [
      "After vectorizations\n",
      "(67000, 10000) (67000,)\n",
      "(33000, 10000) (33000,)\n",
      "====================================================================================================\n"
     ]
    }
   ],
   "source": [
    "print(\"After vectorizations\")\n",
    "print(X_train_essay_tfidf.shape, y_train.shape)  #size of train and test vector\n",
    "print(X_test_essay_tfidf.shape, y_test.shape)\n",
    "print(\"=\"*100)\n"
   ]
  },
  {
   "cell_type": "markdown",
   "metadata": {},
   "source": [
    "<h3> 3.encoding categorical features: School State</h3>"
   ]
  },
  {
   "cell_type": "code",
   "execution_count": 301,
   "metadata": {},
   "outputs": [
    {
     "name": "stdout",
     "output_type": "stream",
     "text": [
      "After vectorizations\n",
      "(67000, 51) (67000,)\n",
      "(33000, 51) (33000,)\n",
      "====================================================================================================\n"
     ]
    }
   ],
   "source": [
    "vectorizer = CountVectorizer(binary=True)\n",
    "vectorizer.fit(X_train['school_state'].values) # fit has to happen only on train data\n",
    "\n",
    "# we use the fitted CountVectorizer to convert the text to vector\n",
    "X_train_state_ohe = vectorizer.transform(X_train['school_state'].values)\n",
    "\n",
    "feature_names_with_bow = np.append(feature_names_with_bow,vectorizer.get_feature_names_out())#to keep track of feature names\n",
    "feature_names_with_tfidf=np.append(feature_names_with_tfidf,vectorizer.get_feature_names_out())#to keep track of feature names\n",
    "\n",
    "X_test_state_ohe = vectorizer.transform(X_test['school_state'].values)\n",
    "\n",
    "print(\"After vectorizations\")\n",
    "print(X_train_state_ohe.shape, y_train.shape)\n",
    "print(X_test_state_ohe.shape, y_test.shape)\n",
    "print(\"=\"*100)"
   ]
  },
  {
   "cell_type": "markdown",
   "metadata": {},
   "source": [
    "<h3>4. encoding categorical features: teacher_prefix</h3>"
   ]
  },
  {
   "cell_type": "code",
   "execution_count": 302,
   "metadata": {},
   "outputs": [
    {
     "name": "stdout",
     "output_type": "stream",
     "text": [
      "After vectorizations\n",
      "(67000, 5) (67000,)\n",
      "(33000, 5) (33000,)\n",
      "====================================================================================================\n"
     ]
    }
   ],
   "source": [
    "vectorizer = CountVectorizer(binary=True)\n",
    "vectorizer.fit(X_train['teacher_prefix'].values) # fit has to happen only on train data\n",
    "\n",
    "# we use the fitted CountVectorizer to convert the text to vector\n",
    "X_train_teacher_ohe = vectorizer.transform(X_train['teacher_prefix'].values)\n",
    "\n",
    "feature_names_with_bow = np.append(feature_names_with_bow,vectorizer.get_feature_names_out()) #to keep track of feature names\n",
    "feature_names_with_tfidf=np.append(feature_names_with_tfidf,vectorizer.get_feature_names_out())\n",
    "\n",
    "X_test_teacher_ohe = vectorizer.transform(X_test['teacher_prefix'].values)\n",
    "\n",
    "print(\"After vectorizations\")\n",
    "print(X_train_teacher_ohe.shape, y_train.shape)\n",
    "print(X_test_teacher_ohe.shape, y_test.shape)\n",
    "print(\"=\"*100)"
   ]
  },
  {
   "cell_type": "markdown",
   "metadata": {},
   "source": [
    "<h3>5. encoding categorical features: project_grade_category</h3>"
   ]
  },
  {
   "cell_type": "code",
   "execution_count": 303,
   "metadata": {},
   "outputs": [
    {
     "name": "stdout",
     "output_type": "stream",
     "text": [
      "After vectorizations\n",
      "(67000, 4) (67000,)\n",
      "(33000, 4) (33000,)\n",
      "====================================================================================================\n"
     ]
    }
   ],
   "source": [
    "vectorizer = CountVectorizer(binary=True)\n",
    "X_train_grade_ohe=vectorizer.fit_transform(X_train['project_grade_category'].values) # fit has to happen only on train data\n",
    "\n",
    "# we use the fitted CountVectorizer to convert the text to vector\n",
    "X_test_grade_ohe = vectorizer.transform(X_test['project_grade_category'].values)\n",
    "\n",
    "feature_names_with_bow = np.append(feature_names_with_bow,vectorizer.get_feature_names_out()) #to keep track of feature names\n",
    "feature_names_with_tfidf=np.append(feature_names_with_tfidf,vectorizer.get_feature_names_out())\n",
    "\n",
    "print(\"After vectorizations\")\n",
    "print(X_train_grade_ohe.shape, y_train.shape)\n",
    "print(X_test_grade_ohe.shape, y_test.shape)\n",
    "#print(vectorizer.get_feature_names())             #feature names of 4 dim vector\n",
    "print(\"=\"*100)"
   ]
  },
  {
   "cell_type": "markdown",
   "metadata": {},
   "source": [
    "<h3>6. encoding categorical features: clean_categories</h3>"
   ]
  },
  {
   "cell_type": "code",
   "execution_count": 304,
   "metadata": {},
   "outputs": [
    {
     "name": "stdout",
     "output_type": "stream",
     "text": [
      "After vectorizations\n",
      "(67000, 9) (67000,)\n",
      "(33000, 9) (33000,)\n",
      "====================================================================================================\n"
     ]
    }
   ],
   "source": [
    "vectorizer = CountVectorizer(binary=True)\n",
    "X_train_category_ohe=vectorizer.fit_transform(X_train['clean_categories'].values) # fit has to happen only on train data\n",
    "\n",
    "# we use the fitted CountVectorizer to convert the text to vector\n",
    "X_test_category_ohe = vectorizer.transform(X_test['clean_categories'].values)\n",
    "                                           \n",
    "feature_names_with_bow = np.append(feature_names_with_bow,vectorizer.get_feature_names_out()) #to keep track of feature names\n",
    "feature_names_with_tfidf=np.append(feature_names_with_tfidf,vectorizer.get_feature_names_out())\n",
    "\n",
    "\n",
    "print(\"After vectorizations\")\n",
    "print(X_train_category_ohe.shape, y_train.shape)\n",
    "print(X_test_category_ohe.shape, y_test.shape)\n",
    "print(\"=\"*100)"
   ]
  },
  {
   "cell_type": "markdown",
   "metadata": {},
   "source": [
    "<h3>7. encoding categorical features: clean_subcategories</h3>"
   ]
  },
  {
   "cell_type": "code",
   "execution_count": 305,
   "metadata": {},
   "outputs": [
    {
     "name": "stdout",
     "output_type": "stream",
     "text": [
      "After vectorizations\n",
      "(67000, 30) (67000,)\n",
      "(33000, 30) (33000,)\n",
      "====================================================================================================\n"
     ]
    }
   ],
   "source": [
    "vectorizer = CountVectorizer(binary=True)\n",
    "X_train_subcategory_ohe=vectorizer.fit_transform(X_train['clean_subcategories'].values) # fit has to happen only on train data\n",
    "\n",
    "# we use the fitted CountVectorizer to convert the text to vector\n",
    "X_test_subcategory_ohe = vectorizer.transform(X_test['clean_categories'].values)\n",
    "\n",
    "feature_names_with_bow = np.append(feature_names_with_bow,vectorizer.get_feature_names_out())#to keep track of feature names\n",
    "feature_names_with_tfidf=np.append(feature_names_with_tfidf,vectorizer.get_feature_names_out())\n",
    "\n",
    "print(\"After vectorizations\")\n",
    "print(X_train_subcategory_ohe.shape, y_train.shape)\n",
    "print(X_test_subcategory_ohe.shape, y_test.shape)\n",
    "print(\"=\"*100) "
   ]
  },
  {
   "cell_type": "markdown",
   "metadata": {},
   "source": [
    "<h3>8. encoding numerical features: Price</h3>"
   ]
  },
  {
   "cell_type": "code",
   "execution_count": 306,
   "metadata": {},
   "outputs": [
    {
     "name": "stdout",
     "output_type": "stream",
     "text": [
      "After vectorizations\n",
      "(67000, 1) (67000,)\n",
      "(33000, 1) (33000,)\n",
      "====================================================================================================\n"
     ]
    }
   ],
   "source": [
    "from sklearn.preprocessing import MinMaxScaler\n",
    "\n",
    "scaler = MinMaxScaler()       #doing minmaxscaling to numerical feature(price)\n",
    "#reshape(-1, 1)--so that minmaxscaling applied on price column(feature column)                                                      \n",
    "X_train_price_norm=scaler.fit_transform(X_train['price'].values.reshape(-1, 1)) #fitting train data\n",
    "X_test_price_norm = scaler.transform(X_test['price'].values.reshape(-1, 1))     #converting test data using fitted minmaxscaler\n",
    "\n",
    "feature_names_with_bow = np.append(feature_names_with_bow, ['price']) #to keep track of feature names\n",
    "feature_names_with_tfidf=np.append(feature_names_with_tfidf,['price'])\n",
    "\n",
    "\n",
    "print(\"After vectorizations\")\n",
    "print(X_train_price_norm.shape, y_train.shape)\n",
    "print(X_test_price_norm.shape, y_test.shape)\n",
    "print(\"=\"*100)"
   ]
  },
  {
   "cell_type": "markdown",
   "metadata": {},
   "source": [
    "<h3>9. encoding numerical features: teacher_number_of_previously_posted_projects</h3>"
   ]
  },
  {
   "cell_type": "code",
   "execution_count": 307,
   "metadata": {},
   "outputs": [
    {
     "name": "stdout",
     "output_type": "stream",
     "text": [
      "After vectorizations\n",
      "(67000, 1) (67000,)\n",
      "(33000, 1) (33000,)\n",
      "====================================================================================================\n"
     ]
    }
   ],
   "source": [
    "scaler = MinMaxScaler()\n",
    "#reshape(-1, 1)--so that minmaxscaling applied on teacher_number_of_previously_posted_projects column(feature column)   \n",
    "X_train_previous_projects_norm = scaler.fit_transform(X_train['teacher_number_of_previously_posted_projects'].values.reshape(-1, 1))\n",
    "X_test_previous_projects_norm = scaler.transform(X_test['teacher_number_of_previously_posted_projects'].values.reshape(-1, 1))\n",
    "\n",
    "\n",
    "feature_names_with_bow = np.append(feature_names_with_bow, ['teacher_number_of_previously_posted_projects'])#to keep track of feature names\n",
    "feature_names_with_tfidf=np.append(feature_names_with_tfidf,['teacher_number_of_previously_posted_projects'])\n",
    "\n",
    "print(\"After vectorizations\")\n",
    "print(X_train_previous_projects_norm.shape, y_train.shape)\n",
    "print(X_test_previous_projects_norm.shape, y_test.shape)\n",
    "print(\"=\"*100)"
   ]
  },
  {
   "cell_type": "markdown",
   "metadata": {
    "id": "yYHPYadYb3dh"
   },
   "source": [
    "<h2> Appling NB on different kind of featurization as mentioned in the instructions</h2>"
   ]
  },
  {
   "cell_type": "markdown",
   "metadata": {
    "id": "DNwqilFxb3di"
   },
   "source": [
    "#### Set 1- categorical + numerical features + preprocessed_eassay (BOW)"
   ]
  },
  {
   "cell_type": "code",
   "execution_count": 308,
   "metadata": {},
   "outputs": [
    {
     "name": "stdout",
     "output_type": "stream",
     "text": [
      "Final Data matrix\n",
      "(67000, 10101) (67000,)\n",
      "(33000, 10101) (33000,)\n",
      "====================================================================================================\n"
     ]
    }
   ],
   "source": [
    "from scipy.sparse import hstack\n",
    "#all the necessary feature for set1 is stacked together horizontally\n",
    "#stacked train features\n",
    "X_tr_bow = hstack((X_train_essay_bow,X_train_state_ohe, X_train_teacher_ohe, X_train_grade_ohe, X_train_category_ohe, X_train_subcategory_ohe,X_train_price_norm,X_train_previous_projects_norm)).tocsr()\n",
    "#stacked test features\n",
    "X_te_bow = hstack((X_test_essay_bow,X_test_state_ohe, X_test_teacher_ohe, X_test_grade_ohe, X_test_category_ohe, X_test_subcategory_ohe,X_test_price_norm,X_test_previous_projects_norm)).tocsr()\n",
    "\n",
    "print(\"Final Data matrix\")\n",
    "print(X_tr_bow.shape, y_train.shape)\n",
    "print(X_te_bow.shape, y_test.shape)\n",
    "print(\"=\"*100)"
   ]
  },
  {
   "cell_type": "markdown",
   "metadata": {},
   "source": [
    "## Fitting Naive bayes model on set1 features"
   ]
  },
  {
   "cell_type": "code",
   "execution_count": 309,
   "metadata": {},
   "outputs": [
    {
     "name": "stdout",
     "output_type": "stream",
     "text": [
      "[1e-05, 0.0001, 0.0005, 0.001, 0.005, 0.01, 0.05, 0.1, 0.5, 1, 5, 10, 50, 100]\n",
      "[-5.      -4.      -3.30103 -3.      -2.30103 -2.      -1.30103 -1.\n",
      " -0.30103  0.       0.69897  1.       1.69897  2.     ]\n"
     ]
    },
    {
     "data": {
      "image/png": "[encoded data removed]",
      "text/plain": [
       "<Figure size 432x288 with 1 Axes>"
      ]
     },
     "metadata": {
      "needs_background": "light"
     },
     "output_type": "display_data"
    },
    {
     "data": {
      "text/html": [
       "<div>\n",
       "<style scoped>\n",
       "    .dataframe tbody tr th:only-of-type {\n",
       "        vertical-align: middle;\n",
       "    }\n",
       "\n",
       "    .dataframe tbody tr th {\n",
       "        vertical-align: top;\n",
       "    }\n",
       "\n",
       "    .dataframe thead th {\n",
       "        text-align: right;\n",
       "    }\n",
       "</style>\n",
       "<table border=\"1\" class=\"dataframe\">\n",
       "  <thead>\n",
       "    <tr style=\"text-align: right;\">\n",
       "      <th></th>\n",
       "      <th>mean_fit_time</th>\n",
       "      <th>std_fit_time</th>\n",
       "      <th>mean_score_time</th>\n",
       "      <th>std_score_time</th>\n",
       "      <th>param_alpha</th>\n",
       "      <th>params</th>\n",
       "      <th>split0_test_score</th>\n",
       "      <th>split1_test_score</th>\n",
       "      <th>split2_test_score</th>\n",
       "      <th>mean_test_score</th>\n",
       "      <th>std_test_score</th>\n",
       "      <th>rank_test_score</th>\n",
       "      <th>split0_train_score</th>\n",
       "      <th>split1_train_score</th>\n",
       "      <th>split2_train_score</th>\n",
       "      <th>mean_train_score</th>\n",
       "      <th>std_train_score</th>\n",
       "    </tr>\n",
       "  </thead>\n",
       "  <tbody>\n",
       "    <tr>\n",
       "      <th>0</th>\n",
       "      <td>0.080660</td>\n",
       "      <td>0.012274</td>\n",
       "      <td>0.024005</td>\n",
       "      <td>0.002153</td>\n",
       "      <td>0.00001</td>\n",
       "      <td>{'alpha': 1e-05}</td>\n",
       "      <td>0.695652</td>\n",
       "      <td>0.692786</td>\n",
       "      <td>0.697340</td>\n",
       "      <td>0.695259</td>\n",
       "      <td>0.001880</td>\n",
       "      <td>5</td>\n",
       "      <td>0.758226</td>\n",
       "      <td>0.751047</td>\n",
       "      <td>0.756085</td>\n",
       "      <td>0.755119</td>\n",
       "      <td>0.003009</td>\n",
       "    </tr>\n",
       "    <tr>\n",
       "      <th>2</th>\n",
       "      <td>0.086033</td>\n",
       "      <td>0.019612</td>\n",
       "      <td>0.025329</td>\n",
       "      <td>0.002627</td>\n",
       "      <td>0.0001</td>\n",
       "      <td>{'alpha': 0.0001}</td>\n",
       "      <td>0.695652</td>\n",
       "      <td>0.692790</td>\n",
       "      <td>0.697340</td>\n",
       "      <td>0.695260</td>\n",
       "      <td>0.001878</td>\n",
       "      <td>4</td>\n",
       "      <td>0.758226</td>\n",
       "      <td>0.751046</td>\n",
       "      <td>0.756085</td>\n",
       "      <td>0.755119</td>\n",
       "      <td>0.003010</td>\n",
       "    </tr>\n",
       "    <tr>\n",
       "      <th>1</th>\n",
       "      <td>0.072684</td>\n",
       "      <td>0.009442</td>\n",
       "      <td>0.023324</td>\n",
       "      <td>0.000471</td>\n",
       "      <td>0.0005</td>\n",
       "      <td>{'alpha': 0.0005}</td>\n",
       "      <td>0.695651</td>\n",
       "      <td>0.692794</td>\n",
       "      <td>0.697339</td>\n",
       "      <td>0.695261</td>\n",
       "      <td>0.001876</td>\n",
       "      <td>2</td>\n",
       "      <td>0.758225</td>\n",
       "      <td>0.751045</td>\n",
       "      <td>0.756085</td>\n",
       "      <td>0.755118</td>\n",
       "      <td>0.003010</td>\n",
       "    </tr>\n",
       "    <tr>\n",
       "      <th>4</th>\n",
       "      <td>0.069664</td>\n",
       "      <td>0.004644</td>\n",
       "      <td>0.026335</td>\n",
       "      <td>0.002503</td>\n",
       "      <td>0.001</td>\n",
       "      <td>{'alpha': 0.001}</td>\n",
       "      <td>0.695651</td>\n",
       "      <td>0.692795</td>\n",
       "      <td>0.697339</td>\n",
       "      <td>0.695262</td>\n",
       "      <td>0.001875</td>\n",
       "      <td>1</td>\n",
       "      <td>0.758224</td>\n",
       "      <td>0.751043</td>\n",
       "      <td>0.756084</td>\n",
       "      <td>0.755117</td>\n",
       "      <td>0.003010</td>\n",
       "    </tr>\n",
       "    <tr>\n",
       "      <th>3</th>\n",
       "      <td>0.067047</td>\n",
       "      <td>0.000816</td>\n",
       "      <td>0.023656</td>\n",
       "      <td>0.000931</td>\n",
       "      <td>0.005</td>\n",
       "      <td>{'alpha': 0.005}</td>\n",
       "      <td>0.695649</td>\n",
       "      <td>0.692796</td>\n",
       "      <td>0.697336</td>\n",
       "      <td>0.695260</td>\n",
       "      <td>0.001874</td>\n",
       "      <td>3</td>\n",
       "      <td>0.758217</td>\n",
       "      <td>0.751035</td>\n",
       "      <td>0.756076</td>\n",
       "      <td>0.755110</td>\n",
       "      <td>0.003011</td>\n",
       "    </tr>\n",
       "  </tbody>\n",
       "</table>\n",
       "</div>"
      ],
      "text/plain": [
       "   mean_fit_time  std_fit_time  mean_score_time  std_score_time param_alpha  \\\n",
       "0       0.080660      0.012274         0.024005        0.002153     0.00001   \n",
       "2       0.086033      0.019612         0.025329        0.002627      0.0001   \n",
       "1       0.072684      0.009442         0.023324        0.000471      0.0005   \n",
       "4       0.069664      0.004644         0.026335        0.002503       0.001   \n",
       "3       0.067047      0.000816         0.023656        0.000931       0.005   \n",
       "\n",
       "              params  split0_test_score  split1_test_score  split2_test_score  \\\n",
       "0   {'alpha': 1e-05}           0.695652           0.692786           0.697340   \n",
       "2  {'alpha': 0.0001}           0.695652           0.692790           0.697340   \n",
       "1  {'alpha': 0.0005}           0.695651           0.692794           0.697339   \n",
       "4   {'alpha': 0.001}           0.695651           0.692795           0.697339   \n",
       "3   {'alpha': 0.005}           0.695649           0.692796           0.697336   \n",
       "\n",
       "   mean_test_score  std_test_score  rank_test_score  split0_train_score  \\\n",
       "0         0.695259        0.001880                5            0.758226   \n",
       "2         0.695260        0.001878                4            0.758226   \n",
       "1         0.695261        0.001876                2            0.758225   \n",
       "4         0.695262        0.001875                1            0.758224   \n",
       "3         0.695260        0.001874                3            0.758217   \n",
       "\n",
       "   split1_train_score  split2_train_score  mean_train_score  std_train_score  \n",
       "0            0.751047            0.756085          0.755119         0.003009  \n",
       "2            0.751046            0.756085          0.755119         0.003010  \n",
       "1            0.751045            0.756085          0.755118         0.003010  \n",
       "4            0.751043            0.756084          0.755117         0.003010  \n",
       "3            0.751035            0.756076          0.755110         0.003011  "
      ]
     },
     "execution_count": 309,
     "metadata": {},
     "output_type": "execute_result"
    }
   ],
   "source": [
    "# https://scikit-learn.org/stable/modules/generated/sklearn.model_selection.GridSearchCV.html\n",
    "\n",
    "NB = MultinomialNB(class_prior=[0.5,0.5])     #multinomial naive bayes\n",
    "\n",
    "parameters = {'alpha':[0.00001,0.0005, 0.0001,0.005,0.001,0.05,0.01,0.1,0.5,1,5,10,50,100]} #hyper parameter list for gridsearch\n",
    "clf = GridSearchCV(NB, parameters, cv=3, scoring='roc_auc',return_train_score=True) #applying gridsearch to find best hyperparameter\n",
    "clf.fit(X_tr_bow, y_train)    #fitting the NB model with train data\n",
    "\n",
    "results = pd.DataFrame.from_dict(clf.cv_results_)   #storing Gridsearch results\n",
    "\n",
    "results = results.sort_values(['param_alpha'])\n",
    "\n",
    "train_auc= results['mean_train_score']       #storing required Gridsearch results in required variable\n",
    "train_auc_std= results['std_train_score']\n",
    "cv_auc = results['mean_test_score'] \n",
    "cv_auc_std= results['std_test_score']\n",
    "alpha =  results['param_alpha'].tolist()\n",
    "print(alpha)\n",
    "print(np.log10(alpha))\n",
    "\n",
    "plt.plot(np.log10(alpha), train_auc, label='Train AUC')\n",
    "# this code is copied from here: https://stackoverflow.com/a/48803361/4084039\n",
    "\n",
    "plt.plot(np.log10(alpha), cv_auc, label='CV AUC')\n",
    "\n",
    "plt.scatter(np.log10(alpha), train_auc, label='Train AUC points')\n",
    "plt.scatter(np.log10(alpha), cv_auc, label='CV AUC points')\n",
    "plt.legend()\n",
    "plt.xlabel(\"alpha: hyperparameter\")\n",
    "plt.ylabel(\"AUC\")\n",
    "plt.title(\"Hyper parameter Vs AUC plot\")\n",
    "plt.grid()\n",
    "plt.show()\n",
    "\n",
    "results.head()"
   ]
  },
  {
   "cell_type": "code",
   "execution_count": 310,
   "metadata": {},
   "outputs": [],
   "source": [
    "best_alpha=1     #from the above\"Hyper parameter Vs AUC plot\" we can see that for the alpha value of 1=log10(0) we have higher test auc and the gap between train AUC and Test AUC curve is small"
   ]
  },
  {
   "cell_type": "code",
   "execution_count": 311,
   "metadata": {},
   "outputs": [
    {
     "data": {
      "image/png": "[encoded data removed]",
      "text/plain": [
       "<Figure size 432x288 with 1 Axes>"
      ]
     },
     "metadata": {
      "needs_background": "light"
     },
     "output_type": "display_data"
    }
   ],
   "source": [
    "# https://scikit-learn.org/stable/modules/generated/sklearn.metrics.roc_curve.html#sklearn.metrics.roc_curve\n",
    "from sklearn.metrics import roc_curve, auc\n",
    "\n",
    "NB = MultinomialNB(alpha=best_alpha,class_prior=[0.5,0.5])\n",
    "NB.fit(X_tr_bow, y_train)              #fitting the NB model with best alpha \n",
    "# roc_auc_score(y_true, y_score) the 2nd parameter should be probability estimates of the positive class,not the predicted outputs\n",
    "\n",
    "y_train_pred_proba = NB.predict_proba(X_tr_bow)    \n",
    "y_test_pred_proba = NB.predict_proba(X_te_bow)\n",
    "\n",
    "train_fpr, train_tpr, tr_thresholds = roc_curve(y_train, y_train_pred_proba[:,[1]])        #find FPR and TPR for plotting roc curve\n",
    "test_fpr, test_tpr, te_thresholds = roc_curve(y_test, y_test_pred_proba[:,[1]])\n",
    "\n",
    "plt.plot(train_fpr, train_tpr, label=\"train AUC =\"+str(auc(train_fpr, train_tpr)))   #finding area under the ROC curve using FPR and TPR\n",
    "plt.plot(test_fpr, test_tpr, label=\"test AUC =\"+str(auc(test_fpr, test_tpr)))\n",
    "plt.legend()\n",
    "plt.xlabel(\"FPR\")\n",
    "plt.ylabel(\"TPR\")\n",
    "plt.title(\"ROC curve\")\n",
    "plt.grid()\n",
    "plt.show()"
   ]
  },
  {
   "cell_type": "code",
   "execution_count": 312,
   "metadata": {},
   "outputs": [],
   "source": [
    "# we are writing our own function for predict, with defined thresould\n",
    "# we will pick a threshold that will give the least fpr\n",
    "def find_best_threshold(threshould, fpr, tpr):\n",
    "    t = threshould[np.argmax(tpr*(1-fpr))]\n",
    "    # (tpr*(1-fpr)) will be maximum if your fpr is very low and tpr is very high\n",
    "    print(\"the maximum value of tpr*(1-fpr)\", max(tpr*(1-fpr)), \"for threshold\", np.round(t,3))\n",
    "    return t\n",
    "\n",
    "def predict_with_best_t(proba, threshould): #for plotting confusion matrix we need to give 1 or 0 for prediction instead of probability value\n",
    "                                            #so this function convert prob value to 0 or 1 basen on best threshold\n",
    "    predictions = []\n",
    "    for i in proba:           \n",
    "        if i>=threshould:\n",
    "            predictions.append(1)       # if the prob value is equal to or higher than threshold , append 1(consider that as 1), else 0 \n",
    "        else:\n",
    "            predictions.append(0)\n",
    "    return predictions"
   ]
  },
  {
   "cell_type": "code",
   "execution_count": 313,
   "metadata": {
    "scrolled": true
   },
   "outputs": [
    {
     "name": "stdout",
     "output_type": "stream",
     "text": [
      "====================================================================================================\n",
      "the maximum value of tpr*(1-fpr) 0.46140227614281654 for threshold 0.405\n",
      "Train confusion matrix\n",
      "[[ 6925  3248]\n",
      " [18309 38518]]\n",
      "Test confusion matrix\n",
      "[[ 3130  1880]\n",
      " [ 9263 18727]]\n"
     ]
    }
   ],
   "source": [
    "print(\"=\"*100)\n",
    "from sklearn.metrics import confusion_matrix\n",
    "best_t = find_best_threshold(tr_thresholds, train_fpr, train_tpr) #finding the best threshold vaule for which AUC value is more\n",
    "print(\"Train confusion matrix\")\n",
    "print(confusion_matrix(y_train, predict_with_best_t(y_train_pred_proba[:,[1]], best_t)))   #plot confusion matrix\n",
    "print(\"Test confusion matrix\")\n",
    "print(confusion_matrix(y_test, predict_with_best_t(y_test_pred_proba[:,[1]], best_t)))"
   ]
  },
  {
   "cell_type": "code",
   "execution_count": 314,
   "metadata": {},
   "outputs": [],
   "source": [
    "feature_log_probability_values = NB.feature_log_prob_ #getting feature probability(given any feature what is the probability of predicting the class correctly)\n",
    "\n",
    "positive_feature_log_probability_values = feature_log_probability_values[1] #probability values for each feature which helps to predict positive class\n",
    "negative_feature_log_probability_values = feature_log_probability_values[0]#probability values for each feature which helps to predict negative class\n",
    "\n",
    "#sorting in decending order reference taken from : https://stackoverflow.com/a/16486299/17345549\n",
    "positive_sorted_index=positive_feature_log_probability_values.argsort()[::-1][:20] #feature with top 20 probability score helping predicting positive class \n",
    "negative_sorted_index=negative_feature_log_probability_values.argsort()[::-1][:20] #feature with top 20 probability score helping predicting negative class \n",
    "\n"
   ]
  },
  {
   "cell_type": "code",
   "execution_count": 315,
   "metadata": {},
   "outputs": [
    {
     "name": "stdout",
     "output_type": "stream",
     "text": [
      "(2, 10101)\n",
      "(10101,)\n"
     ]
    }
   ],
   "source": [
    "print(feature_log_probability_values.shape)  #to make sure the dim of feature prob value vector and feature name vector are same\n",
    "print(feature_names_with_bow.shape)"
   ]
  },
  {
   "cell_type": "code",
   "execution_count": 316,
   "metadata": {},
   "outputs": [
    {
     "name": "stdout",
     "output_type": "stream",
     "text": [
      "['students', 'school', 'my', 'learning', 'classroom', 'the', 'not', 'they', 'my students', 'learn', 'help', 'many', 'nannan', 'we', 'reading', 'work', 'need', 'use', 'love', 'day']\n"
     ]
    }
   ],
   "source": [
    "#printing those top 20 featuers, which helped to predict the positive classes, with the help of sorted prob index and  already stored list of feature names\n",
    "#printing those top 20 featuers with the help of soreted prob index and  already store list of feature names\n",
    "top_20_important_features_for_determining_postivite_class=[]\n",
    "\n",
    "for i in positive_sorted_index:\n",
    "    top_20_important_features_for_determining_postivite_class.append(feature_names_with_bow[i])\n",
    "    \n",
    "print(top_20_important_features_for_determining_postivite_class)"
   ]
  },
  {
   "cell_type": "code",
   "execution_count": 317,
   "metadata": {},
   "outputs": [
    {
     "name": "stdout",
     "output_type": "stream",
     "text": [
      "['students', 'school', 'learning', 'my', 'classroom', 'not', 'learn', 'they', 'help', 'the', 'my students', 'nannan', 'many', 'we', 'need', 'work', 'come', 'reading', 'love', 'able']\n"
     ]
    }
   ],
   "source": [
    "#printing those top 20 featuers, which helps to predict the nagative class, with the help of sorted prob index and  already store list of feature names\n",
    "top_20_important_features_for_determining_negative_class=[]\n",
    "\n",
    "for i in negative_sorted_index:\n",
    "    top_20_important_features_for_determining_negative_class.append(feature_names_with_bow[i])\n",
    "    \n",
    "print(top_20_important_features_for_determining_negative_class)"
   ]
  },
  {
   "cell_type": "markdown",
   "metadata": {},
   "source": [
    "#### Set 2- categorical + numerical features + preprocessed_eassay (TFIDF)"
   ]
  },
  {
   "cell_type": "code",
   "execution_count": 318,
   "metadata": {},
   "outputs": [
    {
     "name": "stdout",
     "output_type": "stream",
     "text": [
      "Final Data matrix\n",
      "(67000, 10101) (67000,)\n",
      "(33000, 10101) (33000,)\n",
      "====================================================================================================\n"
     ]
    }
   ],
   "source": [
    "from scipy.sparse import hstack\n",
    "#all the necessary feature for set2 is stacked together horizontally\n",
    "#stacked train features\n",
    "X_tr_tfidf = hstack((X_train_essay_tfidf,X_train_state_ohe, X_train_teacher_ohe, X_train_grade_ohe, X_train_category_ohe, X_train_subcategory_ohe,X_train_price_norm,X_train_previous_projects_norm)).tocsr()\n",
    "#stacked test features\n",
    "X_te_tfidf = hstack((X_test_essay_tfidf,X_test_state_ohe, X_test_teacher_ohe, X_test_grade_ohe, X_test_category_ohe, X_test_subcategory_ohe,X_test_price_norm,X_test_previous_projects_norm)).tocsr()\n",
    "\n",
    "print(\"Final Data matrix\")\n",
    "print(X_tr_tfidf.shape, y_train.shape)\n",
    "print(X_te_tfidf.shape, y_test.shape)\n",
    "print(\"=\"*100)"
   ]
  },
  {
   "cell_type": "code",
   "execution_count": 319,
   "metadata": {},
   "outputs": [
    {
     "name": "stdout",
     "output_type": "stream",
     "text": [
      "[1e-05, 0.0001, 0.0005, 0.001, 0.005, 0.01, 0.05, 0.1, 0.5, 1, 5, 10, 50, 100]\n",
      "[-5.      -4.      -3.30103 -3.      -2.30103 -2.      -1.30103 -1.\n",
      " -0.30103  0.       0.69897  1.       1.69897  2.     ]\n"
     ]
    },
    {
     "data": {
      "image/png": "[encoded data removed]",
      "text/plain": [
       "<Figure size 432x288 with 1 Axes>"
      ]
     },
     "metadata": {
      "needs_background": "light"
     },
     "output_type": "display_data"
    },
    {
     "data": {
      "text/html": [
       "<div>\n",
       "<style scoped>\n",
       "    .dataframe tbody tr th:only-of-type {\n",
       "        vertical-align: middle;\n",
       "    }\n",
       "\n",
       "    .dataframe tbody tr th {\n",
       "        vertical-align: top;\n",
       "    }\n",
       "\n",
       "    .dataframe thead th {\n",
       "        text-align: right;\n",
       "    }\n",
       "</style>\n",
       "<table border=\"1\" class=\"dataframe\">\n",
       "  <thead>\n",
       "    <tr style=\"text-align: right;\">\n",
       "      <th></th>\n",
       "      <th>mean_fit_time</th>\n",
       "      <th>std_fit_time</th>\n",
       "      <th>mean_score_time</th>\n",
       "      <th>std_score_time</th>\n",
       "      <th>param_alpha</th>\n",
       "      <th>params</th>\n",
       "      <th>split0_test_score</th>\n",
       "      <th>split1_test_score</th>\n",
       "      <th>split2_test_score</th>\n",
       "      <th>mean_test_score</th>\n",
       "      <th>std_test_score</th>\n",
       "      <th>rank_test_score</th>\n",
       "      <th>split0_train_score</th>\n",
       "      <th>split1_train_score</th>\n",
       "      <th>split2_train_score</th>\n",
       "      <th>mean_train_score</th>\n",
       "      <th>std_train_score</th>\n",
       "    </tr>\n",
       "  </thead>\n",
       "  <tbody>\n",
       "    <tr>\n",
       "      <th>0</th>\n",
       "      <td>0.072348</td>\n",
       "      <td>0.004039</td>\n",
       "      <td>0.024695</td>\n",
       "      <td>0.000926</td>\n",
       "      <td>0.00001</td>\n",
       "      <td>{'alpha': 1e-05}</td>\n",
       "      <td>0.682958</td>\n",
       "      <td>0.673593</td>\n",
       "      <td>0.678570</td>\n",
       "      <td>0.678374</td>\n",
       "      <td>0.003826</td>\n",
       "      <td>1</td>\n",
       "      <td>0.745555</td>\n",
       "      <td>0.736917</td>\n",
       "      <td>0.742269</td>\n",
       "      <td>0.741581</td>\n",
       "      <td>0.00356</td>\n",
       "    </tr>\n",
       "    <tr>\n",
       "      <th>2</th>\n",
       "      <td>0.075011</td>\n",
       "      <td>0.010661</td>\n",
       "      <td>0.032090</td>\n",
       "      <td>0.007037</td>\n",
       "      <td>0.0001</td>\n",
       "      <td>{'alpha': 0.0001}</td>\n",
       "      <td>0.682957</td>\n",
       "      <td>0.673592</td>\n",
       "      <td>0.678568</td>\n",
       "      <td>0.678372</td>\n",
       "      <td>0.003826</td>\n",
       "      <td>2</td>\n",
       "      <td>0.745554</td>\n",
       "      <td>0.736915</td>\n",
       "      <td>0.742268</td>\n",
       "      <td>0.741579</td>\n",
       "      <td>0.00356</td>\n",
       "    </tr>\n",
       "    <tr>\n",
       "      <th>1</th>\n",
       "      <td>0.074991</td>\n",
       "      <td>0.002937</td>\n",
       "      <td>0.024322</td>\n",
       "      <td>0.001892</td>\n",
       "      <td>0.0005</td>\n",
       "      <td>{'alpha': 0.0005}</td>\n",
       "      <td>0.682954</td>\n",
       "      <td>0.673588</td>\n",
       "      <td>0.678563</td>\n",
       "      <td>0.678368</td>\n",
       "      <td>0.003826</td>\n",
       "      <td>3</td>\n",
       "      <td>0.745545</td>\n",
       "      <td>0.736907</td>\n",
       "      <td>0.742260</td>\n",
       "      <td>0.741570</td>\n",
       "      <td>0.00356</td>\n",
       "    </tr>\n",
       "    <tr>\n",
       "      <th>4</th>\n",
       "      <td>0.076007</td>\n",
       "      <td>0.008641</td>\n",
       "      <td>0.022659</td>\n",
       "      <td>0.000471</td>\n",
       "      <td>0.001</td>\n",
       "      <td>{'alpha': 0.001}</td>\n",
       "      <td>0.682950</td>\n",
       "      <td>0.673583</td>\n",
       "      <td>0.678557</td>\n",
       "      <td>0.678364</td>\n",
       "      <td>0.003826</td>\n",
       "      <td>4</td>\n",
       "      <td>0.745535</td>\n",
       "      <td>0.736897</td>\n",
       "      <td>0.742249</td>\n",
       "      <td>0.741560</td>\n",
       "      <td>0.00356</td>\n",
       "    </tr>\n",
       "    <tr>\n",
       "      <th>3</th>\n",
       "      <td>0.078338</td>\n",
       "      <td>0.006778</td>\n",
       "      <td>0.027326</td>\n",
       "      <td>0.003690</td>\n",
       "      <td>0.005</td>\n",
       "      <td>{'alpha': 0.005}</td>\n",
       "      <td>0.682913</td>\n",
       "      <td>0.673540</td>\n",
       "      <td>0.678508</td>\n",
       "      <td>0.678320</td>\n",
       "      <td>0.003829</td>\n",
       "      <td>5</td>\n",
       "      <td>0.745451</td>\n",
       "      <td>0.736813</td>\n",
       "      <td>0.742163</td>\n",
       "      <td>0.741475</td>\n",
       "      <td>0.00356</td>\n",
       "    </tr>\n",
       "  </tbody>\n",
       "</table>\n",
       "</div>"
      ],
      "text/plain": [
       "   mean_fit_time  std_fit_time  mean_score_time  std_score_time param_alpha  \\\n",
       "0       0.072348      0.004039         0.024695        0.000926     0.00001   \n",
       "2       0.075011      0.010661         0.032090        0.007037      0.0001   \n",
       "1       0.074991      0.002937         0.024322        0.001892      0.0005   \n",
       "4       0.076007      0.008641         0.022659        0.000471       0.001   \n",
       "3       0.078338      0.006778         0.027326        0.003690       0.005   \n",
       "\n",
       "              params  split0_test_score  split1_test_score  split2_test_score  \\\n",
       "0   {'alpha': 1e-05}           0.682958           0.673593           0.678570   \n",
       "2  {'alpha': 0.0001}           0.682957           0.673592           0.678568   \n",
       "1  {'alpha': 0.0005}           0.682954           0.673588           0.678563   \n",
       "4   {'alpha': 0.001}           0.682950           0.673583           0.678557   \n",
       "3   {'alpha': 0.005}           0.682913           0.673540           0.678508   \n",
       "\n",
       "   mean_test_score  std_test_score  rank_test_score  split0_train_score  \\\n",
       "0         0.678374        0.003826                1            0.745555   \n",
       "2         0.678372        0.003826                2            0.745554   \n",
       "1         0.678368        0.003826                3            0.745545   \n",
       "4         0.678364        0.003826                4            0.745535   \n",
       "3         0.678320        0.003829                5            0.745451   \n",
       "\n",
       "   split1_train_score  split2_train_score  mean_train_score  std_train_score  \n",
       "0            0.736917            0.742269          0.741581          0.00356  \n",
       "2            0.736915            0.742268          0.741579          0.00356  \n",
       "1            0.736907            0.742260          0.741570          0.00356  \n",
       "4            0.736897            0.742249          0.741560          0.00356  \n",
       "3            0.736813            0.742163          0.741475          0.00356  "
      ]
     },
     "execution_count": 319,
     "metadata": {},
     "output_type": "execute_result"
    }
   ],
   "source": [
    "# https://scikit-learn.org/stable/modules/generated/sklearn.model_selection.GridSearchCV.html\n",
    "from sklearn.model_selection import GridSearchCV\n",
    "from scipy.stats import randint as sp_randint\n",
    "from sklearn.model_selection import RandomizedSearchCV\n",
    "from sklearn.naive_bayes import MultinomialNB\n",
    "NB = MultinomialNB(class_prior=[0.5,0.5])                     #multinomial naive bayes\n",
    "\n",
    "parameters = {'alpha':[0.00001,0.0005, 0.0001,0.005,0.001,0.05,0.01,0.1,0.5,1,5,10,50,100]}     #hyper parameter list for gridsearch\n",
    "clf = GridSearchCV(NB, parameters, cv=3, scoring='roc_auc',return_train_score=True)             #applying gridsearch to find best hyperparame\n",
    "clf.fit(X_tr_tfidf, y_train)                               #fitting the NB model with train data\n",
    "\n",
    "results = pd.DataFrame.from_dict(clf.cv_results_)          #storing Gridsearch results\n",
    "\n",
    "results = results.sort_values(['param_alpha'])\n",
    "train_auc= results['mean_train_score']#storing required Gridsearch results in required variable\n",
    "train_auc_std= results['std_train_score']\n",
    "cv_auc = results['mean_test_score'] \n",
    "cv_auc_std= results['std_test_score']\n",
    "alpha =  results['param_alpha'].tolist()\n",
    "print(alpha)\n",
    "print(np.log10(alpha))\n",
    "\n",
    "plt.plot(np.log10(alpha), train_auc, label='Train AUC')    #in x axis \"log of alpha\" is used for better visualisation\n",
    "# this code is copied from here: https://stackoverflow.com/a/48803361/4084039\n",
    "plt.plot(np.log10(alpha), cv_auc, label='CV AUC')\n",
    "plt.scatter(np.log10(alpha), train_auc, label='Train AUC points')\n",
    "plt.scatter(np.log10(alpha), cv_auc, label='CV AUC points')\n",
    "\n",
    "\n",
    "plt.legend()\n",
    "plt.xlabel(\"alpha: hyperparameter\")\n",
    "plt.ylabel(\"AUC\")\n",
    "plt.title(\"Hyper parameter Vs AUC plot\")\n",
    "plt.grid()\n",
    "plt.show()\n",
    "\n",
    "results.head()"
   ]
  },
  {
   "cell_type": "code",
   "execution_count": 320,
   "metadata": {},
   "outputs": [],
   "source": [
    "best_alpha=0.01  #from the above\"Hyper parameter Vs AUC plot\" we can see that for the alpha value of 0.01=log10(-2) we have higher test auc and the gap between train AUC and Test AUC curve is small"
   ]
  },
  {
   "cell_type": "code",
   "execution_count": 321,
   "metadata": {},
   "outputs": [
    {
     "data": {
      "image/png": "[encoded data removed]",
      "text/plain": [
       "<Figure size 432x288 with 1 Axes>"
      ]
     },
     "metadata": {
      "needs_background": "light"
     },
     "output_type": "display_data"
    }
   ],
   "source": [
    "# https://scikit-learn.org/stable/modules/generated/sklearn.metrics.roc_curve.html#sklearn.metrics.roc_curve\n",
    "from sklearn.metrics import roc_curve, auc\n",
    "\n",
    "\n",
    "NB = MultinomialNB(alpha=best_alpha,class_prior=[0.5,0.5])\n",
    "NB.fit(X_tr_tfidf, y_train)     #fitting the NB model with best alpha \n",
    "# roc_auc_score(y_true, y_score) the 2nd parameter should be probability estimates of the positive class,not the predicted value\n",
    "\n",
    "y_train_pred_proba = NB.predict_proba(X_tr_tfidf)    \n",
    "y_test_pred_proba = NB.predict_proba(X_te_tfidf)\n",
    "\n",
    "#how to get a perticular column in nd array:https://stackoverflow.com/a/8386737/17345549\n",
    "#[:,[1]]---to take probability values for the positive class\n",
    "train_fpr, train_tpr, tr_thresholds = roc_curve(y_train, y_train_pred_proba[:,[1]]) #find FPR and TPR for plotting roc curve\n",
    "test_fpr, test_tpr, te_thresholds = roc_curve(y_test, y_test_pred_proba[:,[1]])\n",
    "\n",
    "plt.plot(train_fpr, train_tpr, label=\"train AUC =\"+str(auc(train_fpr, train_tpr))) #finding area under the ROC curve using FPR and TPR\n",
    "plt.plot(test_fpr, test_tpr, label=\"test AUC =\"+str(auc(test_fpr, test_tpr)))\n",
    "plt.legend()\n",
    "plt.xlabel(\"FPR\")\n",
    "plt.ylabel(\"TPR\")\n",
    "\n",
    "plt.title(\"ERROR PLOTS\")\n",
    "plt.grid()\n",
    "plt.show()"
   ]
  },
  {
   "cell_type": "code",
   "execution_count": 322,
   "metadata": {},
   "outputs": [],
   "source": [
    "# we are writing our own function for predict, with defined thresould\n",
    "# we will pick a threshold that will give the least fpr\n",
    "def find_best_threshold(threshould, fpr, tpr):\n",
    "    t = threshould[np.argmax(tpr*(1-fpr))]\n",
    "    # (tpr*(1-fpr)) will be maximum if your fpr is very low and tpr is very high\n",
    "    print(\"the maximum value of tpr*(1-fpr)\", max(tpr*(1-fpr)), \"for threshold\", np.round(t,3))\n",
    "    return t\n",
    "\n",
    "def predict_with_best_t(proba, threshould):  #for plotting confusion matrix we need to give 1 or 0 for prediction instead of probability value\n",
    "                                            #so this function convert prob value to 0 or 1 basen on best threshold\n",
    "    \n",
    "    predictions = []\n",
    "    for i in proba:\n",
    "        if i>=threshould:\n",
    "            predictions.append(1)    # if the prob value is equal to or higher than threshold , append 1(consider that as 1), else 0 \n",
    "        else:\n",
    "            predictions.append(0)\n",
    "    return predictions"
   ]
  },
  {
   "cell_type": "code",
   "execution_count": 323,
   "metadata": {},
   "outputs": [
    {
     "name": "stdout",
     "output_type": "stream",
     "text": [
      "====================================================================================================\n",
      "the maximum value of tpr*(1-fpr) 0.44293837677391185 for threshold 0.514\n",
      "Train confusion matrix\n",
      "[[ 7103  3070]\n",
      " [20777 36050]]\n",
      "Test confusion matrix\n",
      "[[ 3310  1700]\n",
      " [10486 17504]]\n"
     ]
    }
   ],
   "source": [
    "print(\"=\"*100)\n",
    "from sklearn.metrics import confusion_matrix\n",
    "best_t = find_best_threshold(tr_thresholds, train_fpr, train_tpr) #finding the best threshold vaule for which AUC value is more\n",
    "print(\"Train confusion matrix\")\n",
    "print(confusion_matrix(y_train, predict_with_best_t(y_train_pred_proba[:,[1]], best_t)))   #plot confusion matrix\n",
    "print(\"Test confusion matrix\")\n",
    "print(confusion_matrix(y_test, predict_with_best_t(y_test_pred_proba[:,[1]], best_t)))    #order of confusion matrix    #TN,FP\n",
    "                                                                                                           #FN,TP"
   ]
  },
  {
   "cell_type": "code",
   "execution_count": 324,
   "metadata": {},
   "outputs": [],
   "source": [
    "feature_log_probability_values = NB.feature_log_prob_ #getting feature probability(given any feature what is the probability of predicting the class correctly)\n",
    "\n",
    "positive_feature_log_probability_values = feature_log_probability_values[1] #probability values for each feature which helps to predict positive class\n",
    "negative_feature_log_probability_values = feature_log_probability_values[0]#probability values for each feature which helps to predict negative class\n",
    "\n",
    "#sorting in decending order reference taken from : https://stackoverflow.com/a/16486299/17345549\n",
    "positive_sorted_index=positive_feature_log_probability_values.argsort()[::-1][:20] #feature with top 20 probability score helping predicting positive class \n",
    "negative_sorted_index=negative_feature_log_probability_values.argsort()[::-1][:20] #feature with top 20 probability score helping predicting negative class \n",
    "\n"
   ]
  },
  {
   "cell_type": "code",
   "execution_count": 325,
   "metadata": {},
   "outputs": [
    {
     "name": "stdout",
     "output_type": "stream",
     "text": [
      "(2, 10101)\n",
      "(10101,)\n"
     ]
    }
   ],
   "source": [
    "print(feature_log_probability_values.shape)  #to make sure the dim of feature prob value vector and feature name vector are same\n",
    "print(feature_names_with_tfidf.shape)"
   ]
  },
  {
   "cell_type": "code",
   "execution_count": 326,
   "metadata": {},
   "outputs": [
    {
     "name": "stdout",
     "output_type": "stream",
     "text": [
      "['mrs', 'literacy_language', 'grades_prek_2', 'math_science', 'ms', 'grades_3_5', 'literacy', 'mathematics', 'literature_writing', 'grades_6_8', 'ca', 'health_sports', 'specialneeds', 'specialneeds', 'students', 'appliedlearning', 'health_wellness', 'grades_9_12', 'mr', 'music_arts']\n"
     ]
    }
   ],
   "source": [
    "#printing those top 20 featuers, which helped to predict the positive classes, with the help of sorted prob index and  already stored list of feature names\n",
    "#printing those top 20 featuers with the help of soreted prob index and  already store list of feature names\n",
    "top_20_important_features_for_determining_postivite_class=[]\n",
    "for i in positive_sorted_index:\n",
    "    top_20_important_features_for_determining_postivite_class.append(feature_names_with_tfidf[i])\n",
    "    \n",
    "print(top_20_important_features_for_determining_postivite_class)"
   ]
  },
  {
   "cell_type": "code",
   "execution_count": 327,
   "metadata": {},
   "outputs": [
    {
     "name": "stdout",
     "output_type": "stream",
     "text": [
      "['mrs', 'literacy_language', 'math_science', 'grades_prek_2', 'ms', 'grades_3_5', 'literacy', 'mathematics', 'literature_writing', 'grades_6_8', 'specialneeds', 'specialneeds', 'health_sports', 'ca', 'appliedlearning', 'appliedsciences', 'students', 'grades_9_12', 'mr', 'music_arts']\n"
     ]
    }
   ],
   "source": [
    "#printing those top 20 featuers, which helps to predict the nagative class, with the help of sorted prob index and  already store list of feature names\n",
    "top_20_important_features_for_determining_negative_class=[]\n",
    "for i in negative_sorted_index:\n",
    "    top_20_important_features_for_determining_negative_class.append(feature_names_with_tfidf[i])\n",
    "    \n",
    "print(top_20_important_features_for_determining_negative_class)"
   ]
  },
  {
   "cell_type": "markdown",
   "metadata": {
    "id": "lS9hIHdib3dp"
   },
   "source": [
    "<h1>3. Summary</h1>\n",
    "\n"
   ]
  },
  {
   "cell_type": "code",
   "execution_count": 328,
   "metadata": {},
   "outputs": [],
   "source": [
    "from prettytable import PrettyTable              # Reference Link for Pretty table:  https://pypi.org/project/prettytable/\n",
    "x = PrettyTable()"
   ]
  },
  {
   "cell_type": "code",
   "execution_count": 329,
   "metadata": {},
   "outputs": [],
   "source": [
    "x.field_names = [\"Vectorizer\", \"hyperparamerter(alpha)\", \"train_AUC\",\"test_AUC\"]\n",
    "x.add_row([\"BOW\", 1,0.7361149,0.6981477])\n",
    "x.add_row([\"TFIDF\", 0.01, 0.72328761,0.69370542])"
   ]
  },
  {
   "cell_type": "code",
   "execution_count": 330,
   "metadata": {},
   "outputs": [
    {
     "name": "stdout",
     "output_type": "stream",
     "text": [
      "+------------+------------------------+------------+------------+\n",
      "| Vectorizer | hyperparamerter(alpha) | train_AUC  |  test_AUC  |\n",
      "+------------+------------------------+------------+------------+\n",
      "|    BOW     |           1            | 0.7361149  | 0.6981477  |\n",
      "|   TFIDF    |          0.01          | 0.72328761 | 0.69370542 |\n",
      "+------------+------------------------+------------+------------+\n"
     ]
    }
   ],
   "source": [
    "print(x)"
   ]
  },
  {
   "cell_type": "markdown",
   "metadata": {},
   "source": [
    "#### we have used two sets of features(set1 and set2) for training two different multinomial NB models.\n",
    "- set1 had one hot encoded categorical features and minmaxscaled numerican features and Bag of words representated text features.(vectorizer=BOW)\n",
    "- set2 had one hot encoded categorical features and minmaxscaled numerican features and TFIDF representated text features. (vectorizer=TFIDF)\n",
    "\n",
    "#### For the set1 features\n",
    " - After the stacking features(BOW vectorised) together we fitted the model with the train data and find best hyperparamer which maximizes the AUC using GridsearchCV methood\n",
    " - Then we fitted the model with the best hyperparamer and printed the top20 features which helps us to classify positive and another  top20 features which helps to find negative class\n",
    " \n",
    "#### For the set2 features\n",
    " - repeated the same step as set1\n",
    "\n",
    "**from the table we can see that Multinomial Naive Bayes model with BOW vectorizered text or TFIDF vectorizered text,it performed well with both case**"
   ]
  },
  {
   "cell_type": "code",
   "execution_count": null,
   "metadata": {},
   "outputs": [],
   "source": []
  }
 ],
 "metadata": {
  "colab": {
   "collapsed_sections": [],
   "name": "6_Assignment_NB_Instructions.ipynb",
   "provenance": []
  },
  "kernelspec": {
   "display_name": "Python 3 (ipykernel)",
   "language": "python",
   "name": "python3"
  },
  "language_info": {
   "codemirror_mode": {
    "name": "ipython",
    "version": 3
   },
   "file_extension": ".py",
   "mimetype": "text/x-python",
   "name": "python",
   "nbconvert_exporter": "python",
   "pygments_lexer": "ipython3",
   "version": "3.9.12"
  }
 },
 "nbformat": 4,
 "nbformat_minor": 1
}
