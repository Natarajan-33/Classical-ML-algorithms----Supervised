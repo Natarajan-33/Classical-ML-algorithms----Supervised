{
 "cells": [
  {
   "cell_type": "markdown",
   "metadata": {},
   "source": [
    "# Problem statement"
   ]
  },
  {
   "cell_type": "markdown",
   "metadata": {},
   "source": [
    "- we are given with source and destination nodes as a raw data and asked to predict the higher possibility of forming a link between non connected source and destination nodes based on the given connected nodes data.\n",
    "- So that we can recommend a non connected nodes to form a connection with nodes which have higher probability of forming a connection together."
   ]
  },
  {
   "cell_type": "code",
   "execution_count": 7,
   "metadata": {
    "colab": {
     "base_uri": "https://localhost:8080/",
     "height": 0
    },
    "id": "oV73tMPobmxC",
    "outputId": "5ab9baff-7734-4b4e-8ef6-198a3fbce1a4"
   },
   "outputs": [
    {
     "name": "stdout",
     "output_type": "stream",
     "text": [
      "Mounted at /content/drive\n"
     ]
    }
   ],
   "source": [
    "from google.colab import drive   #mounting google drive\n",
    "drive.mount('/content/drive')"
   ]
  },
  {
   "cell_type": "markdown",
   "metadata": {},
   "source": [
    "**Please read how EDA on data and preprocess of the data done on in the respective ipython notebook**"
   ]
  },
  {
   "cell_type": "code",
   "execution_count": 11,
   "metadata": {
    "colab": {
     "base_uri": "https://localhost:8080/",
     "height": 0
    },
    "id": "7XbL01F0ZfdM",
    "outputId": "6c8c9790-4420-41aa-eb5b-24d858ad9a18"
   },
   "outputs": [
    {
     "name": "stdout",
     "output_type": "stream",
     "text": [
      "Archive:  drive/My Drive/FB_assignment/Facebook-20221031T130316Z-001.zip\n",
      "  inflating: Facebook/FB_featurization.ipynb  \n",
      "  inflating: Facebook/FB_EDA.ipynb   \n",
      "  inflating: Facebook/FB_Models.ipynb  \n",
      "  inflating: Facebook/data/test_y.csv  \n",
      "  inflating: Facebook/data/after_eda/test_pos_after_eda.csv  \n",
      "  inflating: Facebook/data/fea_sample/page_rank.p  \n",
      "  inflating: Facebook/data/fea_sample/storage_sample_stage2.h5  \n",
      "  inflating: Facebook/data/after_eda/test_neg_after_eda.csv  \n",
      "  inflating: Facebook/data/fea_sample/hits.p  \n",
      "  inflating: Facebook/data/fea_sample/storage_sample_stage3.h5  \n",
      "  inflating: Facebook/data/after_eda/test_after_eda.csv  \n",
      "  inflating: Facebook/data/train_y.csv  \n",
      "  inflating: Facebook/data/fea_sample/katz.p  \n",
      "  inflating: Facebook/data/fea_sample/storage_sample_stage4.h5  \n",
      "  inflating: Facebook/data/after_eda/train_neg_after_eda.csv  \n",
      "  inflating: Facebook/data/train.csv  \n",
      "  inflating: Facebook/data/after_eda/train_woheader.csv  \n",
      "  inflating: Facebook/data/after_eda/train_pos_after_eda.csv  \n",
      "  inflating: Facebook/data/after_eda/missing_edges_final.p  \n",
      "  inflating: Facebook/data/after_eda/train_after_eda.csv  \n",
      "  inflating: Facebook/data/fea_sample/storage_sample_stage1.h5  \n"
     ]
    }
   ],
   "source": [
    "! unzip drive/My\\ Drive/FB_assignment/Facebook-20221031T130316Z-001  #unzipping files"
   ]
  },
  {
   "cell_type": "code",
   "execution_count": 71,
   "metadata": {
    "id": "6ZGsMLkvMCHg"
   },
   "outputs": [],
   "source": [
    "#Importing Libraries\n",
    "import warnings\n",
    "warnings.filterwarnings(\"ignore\")\n",
    "\n",
    "import csv\n",
    "import pandas as pd#pandas to create small dataframes \n",
    "import datetime #Convert to unix time\n",
    "import time #Convert to unix time\n",
    "# if numpy is not installed already : pip3 install numpy\n",
    "import numpy as np#Do aritmetic operations on arrays\n",
    "# matplotlib: used to plot graphs\n",
    "import matplotlib\n",
    "import matplotlib.pylab as plt\n",
    "import seaborn as sns#Plots\n",
    "from matplotlib import rcParams#Size of plots  \n",
    "from sklearn.cluster import MiniBatchKMeans, KMeans#Clustering\n",
    "import math\n",
    "import pickle\n",
    "import os\n",
    "# to install xgboost: pip3 install xgboost\n",
    "import xgboost as xgb\n",
    "\n",
    "import warnings\n",
    "import networkx as nx\n",
    "import pdb\n",
    "import pickle\n",
    "from pandas import HDFStore,DataFrame\n",
    "from pandas import read_hdf\n",
    "from scipy.sparse.linalg import svds, eigs\n",
    "import gc\n",
    "from tqdm import tqdm\n",
    "from xgboost import XGBClassifier\n",
    "from sklearn.metrics import f1_score\n",
    "from sklearn.metrics import confusion_matrix\n",
    "from sklearn.metrics import f1_score\n",
    "from sklearn.ensemble import RandomForestClassifier\n",
    "from sklearn.metrics import f1_score\n",
    "from sklearn.model_selection import RandomizedSearchCV\n",
    "from scipy.stats import randint as sp_randint\n",
    "from scipy.stats import uniform\n",
    "from sklearn.metrics import roc_curve, auc\n",
    "from sklearn.metrics import plot_confusion_matrix"
   ]
  },
  {
   "cell_type": "code",
   "execution_count": 14,
   "metadata": {
    "colab": {
     "base_uri": "https://localhost:8080/",
     "height": 36
    },
    "id": "kwj1vMCvcR6x",
    "outputId": "76d4718d-e23a-4494-dd4f-abd176ffcfbf"
   },
   "outputs": [
    {
     "data": {
      "application/vnd.google.colaboratory.intrinsic+json": {
       "type": "string"
      },
      "text/plain": [
       "'/content'"
      ]
     },
     "execution_count": 14,
     "metadata": {},
     "output_type": "execute_result"
    }
   ],
   "source": [
    "%pwd"
   ]
  },
  {
   "cell_type": "code",
   "execution_count": 17,
   "metadata": {
    "id": "kdSzxUCwdbYc"
   },
   "outputs": [],
   "source": [
    "!cd \"/content/Facebook\""
   ]
  },
  {
   "cell_type": "code",
   "execution_count": 20,
   "metadata": {
    "id": "XhNmDo8cdBAt"
   },
   "outputs": [],
   "source": [
    "#!cp -r \"/content/Facebook\" \"/content/drive/My Drive/FB_assignment\""
   ]
  },
  {
   "cell_type": "code",
   "execution_count": 15,
   "metadata": {
    "colab": {
     "base_uri": "https://localhost:8080/",
     "height": 0
    },
    "id": "1T0nEwpSLgxY",
    "outputId": "dbd5befc-18a7-4da2-a511-e6ea8bc18a71"
   },
   "outputs": [
    {
     "name": "stdout",
     "output_type": "stream",
     "text": [
      "DiGraph with 1780722 nodes and 7550015 edges\n"
     ]
    }
   ],
   "source": [
    "if os.path.isfile('data/after_eda/train_pos_after_eda.csv'):  #reading data from stored file\n",
    "    train_graph=nx.read_edgelist('data/after_eda/train_pos_after_eda.csv',delimiter=',',create_using=nx.DiGraph(),nodetype=int)\n",
    "    print(nx.info(train_graph))\n",
    "else:\n",
    "    print(\"please run the FB_EDA.ipynb or download the files from drive\")"
   ]
  },
  {
   "cell_type": "markdown",
   "metadata": {
    "id": "mcbbHm1ws3Hk"
   },
   "source": [
    "### SVD_dot feature"
   ]
  },
  {
   "cell_type": "code",
   "execution_count": 90,
   "metadata": {
    "id": "mEEdH8oNMngl"
   },
   "outputs": [],
   "source": [
    "#for svd features to get feature vector creating a dict node val and inedx in svd vector\n",
    "sadj_col = sorted(train_graph.nodes())\n",
    "sadj_dict = { val:idx for idx,val in enumerate(sadj_col)}"
   ]
  },
  {
   "cell_type": "code",
   "execution_count": 91,
   "metadata": {
    "id": "ORA3Nfm8Mnj0"
   },
   "outputs": [],
   "source": [
    "Adj = nx.adjacency_matrix(train_graph,nodelist=sorted(train_graph.nodes())).asfptype()   #creating adjacency matrix...so that we can decompose it to get vector for each edge connection"
   ]
  },
  {
   "cell_type": "code",
   "execution_count": 92,
   "metadata": {
    "colab": {
     "base_uri": "https://localhost:8080/"
    },
    "id": "oID3Bys8MnmX",
    "outputId": "d63628dc-e6e2-4fae-c902-9e2b70f85579"
   },
   "outputs": [
    {
     "name": "stdout",
     "output_type": "stream",
     "text": [
      "Adjacency matrix Shape (1780722, 1780722)\n",
      "U Shape (1780722, 6)\n",
      "V Shape (6, 1780722)\n",
      "s Shape (6,)\n"
     ]
    }
   ],
   "source": [
    "U, s, V = svds(Adj, k = 6)\n",
    "print('Adjacency matrix Shape',Adj.shape)\n",
    "print('U Shape',U.shape)\n",
    "print('V Shape',V.shape)\n",
    "print('s Shape',s.shape)             #using U and V we can extract features with each of 6 dimentions for each edge connection"
   ]
  },
  {
   "cell_type": "code",
   "execution_count": 93,
   "metadata": {
    "id": "QqZQg1-MMCN_"
   },
   "outputs": [],
   "source": [
    "def svd_dot(x,y,S):\n",
    "    try:\n",
    "        x_index = sadj_dict[x]   #x-value of the dictionary......    x_index--index stored respective to that value\n",
    "        vec_x= S[x_index]             #U[x_index]-----retuens the 6 dim feature respecttive to the index\n",
    "        y_index = sadj_dict[y]\n",
    "        vec_y= S[y_index]\n",
    "        \n",
    "        dot_prod=np.dot(vec_x,vec_y)  #calculating dot product between vectors of x and y\n",
    "        return dot_prod\n",
    "    except:\n",
    "        return 0   "
   ]
  },
  {
   "cell_type": "code",
   "execution_count": 94,
   "metadata": {
    "id": "t17OeuUYf-yS"
   },
   "outputs": [],
   "source": [
    "#reading hdf files\n",
    "from pandas import read_hdf\n",
    "df_final_train = read_hdf('Facebook/data/fea_sample/storage_sample_stage4.h5', 'train_df',mode='r')\n",
    "df_final_test = read_hdf('Facebook/data/fea_sample/storage_sample_stage4.h5', 'test_df',mode='r')"
   ]
  },
  {
   "cell_type": "code",
   "execution_count": 95,
   "metadata": {
    "colab": {
     "base_uri": "https://localhost:8080/",
     "height": 386
    },
    "id": "4mdNqflNhtXv",
    "outputId": "bc27e781-6ec4-4d93-f4e6-43fed18e367c"
   },
   "outputs": [
    {
     "data": {
      "text/html": [
       "\n",
       "  <div id=\"df-4ea0ebcd-f926-4532-812c-48aa4ca1f8fd\">\n",
       "    <div class=\"colab-df-container\">\n",
       "      <div>\n",
       "<style scoped>\n",
       "    .dataframe tbody tr th:only-of-type {\n",
       "        vertical-align: middle;\n",
       "    }\n",
       "\n",
       "    .dataframe tbody tr th {\n",
       "        vertical-align: top;\n",
       "    }\n",
       "\n",
       "    .dataframe thead th {\n",
       "        text-align: right;\n",
       "    }\n",
       "</style>\n",
       "<table border=\"1\" class=\"dataframe\">\n",
       "  <thead>\n",
       "    <tr style=\"text-align: right;\">\n",
       "      <th></th>\n",
       "      <th>source_node</th>\n",
       "      <th>destination_node</th>\n",
       "      <th>indicator_link</th>\n",
       "      <th>jaccard_followers</th>\n",
       "      <th>jaccard_followees</th>\n",
       "      <th>cosine_followers</th>\n",
       "      <th>cosine_followees</th>\n",
       "      <th>num_followers_s</th>\n",
       "      <th>num_followees_s</th>\n",
       "      <th>num_followees_d</th>\n",
       "      <th>...</th>\n",
       "      <th>svd_v_s_3</th>\n",
       "      <th>svd_v_s_4</th>\n",
       "      <th>svd_v_s_5</th>\n",
       "      <th>svd_v_s_6</th>\n",
       "      <th>svd_v_d_1</th>\n",
       "      <th>svd_v_d_2</th>\n",
       "      <th>svd_v_d_3</th>\n",
       "      <th>svd_v_d_4</th>\n",
       "      <th>svd_v_d_5</th>\n",
       "      <th>svd_v_d_6</th>\n",
       "    </tr>\n",
       "  </thead>\n",
       "  <tbody>\n",
       "    <tr>\n",
       "      <th>0</th>\n",
       "      <td>273084</td>\n",
       "      <td>1505602</td>\n",
       "      <td>1</td>\n",
       "      <td>0</td>\n",
       "      <td>0.000000</td>\n",
       "      <td>0.000000</td>\n",
       "      <td>0.000000</td>\n",
       "      <td>6</td>\n",
       "      <td>15</td>\n",
       "      <td>8</td>\n",
       "      <td>...</td>\n",
       "      <td>1.983691e-06</td>\n",
       "      <td>1.545075e-13</td>\n",
       "      <td>8.108434e-13</td>\n",
       "      <td>1.719702e-14</td>\n",
       "      <td>-1.355368e-12</td>\n",
       "      <td>4.675307e-13</td>\n",
       "      <td>1.128591e-06</td>\n",
       "      <td>6.616550e-14</td>\n",
       "      <td>9.771077e-13</td>\n",
       "      <td>4.159752e-14</td>\n",
       "    </tr>\n",
       "    <tr>\n",
       "      <th>1</th>\n",
       "      <td>832016</td>\n",
       "      <td>1543415</td>\n",
       "      <td>1</td>\n",
       "      <td>0</td>\n",
       "      <td>0.187135</td>\n",
       "      <td>0.028382</td>\n",
       "      <td>0.343828</td>\n",
       "      <td>94</td>\n",
       "      <td>61</td>\n",
       "      <td>142</td>\n",
       "      <td>...</td>\n",
       "      <td>-6.236048e-11</td>\n",
       "      <td>1.345726e-02</td>\n",
       "      <td>3.703479e-12</td>\n",
       "      <td>2.251737e-10</td>\n",
       "      <td>1.245101e-12</td>\n",
       "      <td>-1.636948e-10</td>\n",
       "      <td>-3.112650e-10</td>\n",
       "      <td>6.738902e-02</td>\n",
       "      <td>2.607801e-11</td>\n",
       "      <td>2.372904e-09</td>\n",
       "    </tr>\n",
       "    <tr>\n",
       "      <th>2</th>\n",
       "      <td>1325247</td>\n",
       "      <td>760242</td>\n",
       "      <td>1</td>\n",
       "      <td>0</td>\n",
       "      <td>0.369565</td>\n",
       "      <td>0.156957</td>\n",
       "      <td>0.566038</td>\n",
       "      <td>28</td>\n",
       "      <td>41</td>\n",
       "      <td>22</td>\n",
       "      <td>...</td>\n",
       "      <td>-2.380564e-19</td>\n",
       "      <td>-7.021227e-19</td>\n",
       "      <td>1.940403e-19</td>\n",
       "      <td>-3.365389e-19</td>\n",
       "      <td>-1.238370e-18</td>\n",
       "      <td>1.438175e-19</td>\n",
       "      <td>-1.852863e-19</td>\n",
       "      <td>-5.901864e-19</td>\n",
       "      <td>1.629341e-19</td>\n",
       "      <td>-2.572452e-19</td>\n",
       "    </tr>\n",
       "    <tr>\n",
       "      <th>3</th>\n",
       "      <td>1368400</td>\n",
       "      <td>1006992</td>\n",
       "      <td>1</td>\n",
       "      <td>0</td>\n",
       "      <td>0.000000</td>\n",
       "      <td>0.000000</td>\n",
       "      <td>0.000000</td>\n",
       "      <td>11</td>\n",
       "      <td>5</td>\n",
       "      <td>7</td>\n",
       "      <td>...</td>\n",
       "      <td>6.058498e-11</td>\n",
       "      <td>1.514614e-11</td>\n",
       "      <td>1.513483e-12</td>\n",
       "      <td>4.498061e-13</td>\n",
       "      <td>-9.818087e-10</td>\n",
       "      <td>3.454672e-11</td>\n",
       "      <td>5.213635e-08</td>\n",
       "      <td>9.595823e-13</td>\n",
       "      <td>3.047045e-10</td>\n",
       "      <td>1.246592e-13</td>\n",
       "    </tr>\n",
       "    <tr>\n",
       "      <th>4</th>\n",
       "      <td>140165</td>\n",
       "      <td>1708748</td>\n",
       "      <td>1</td>\n",
       "      <td>0</td>\n",
       "      <td>0.000000</td>\n",
       "      <td>0.000000</td>\n",
       "      <td>0.000000</td>\n",
       "      <td>1</td>\n",
       "      <td>11</td>\n",
       "      <td>3</td>\n",
       "      <td>...</td>\n",
       "      <td>1.197283e-07</td>\n",
       "      <td>1.999809e-14</td>\n",
       "      <td>3.360247e-13</td>\n",
       "      <td>1.407670e-14</td>\n",
       "      <td>0.000000e+00</td>\n",
       "      <td>0.000000e+00</td>\n",
       "      <td>0.000000e+00</td>\n",
       "      <td>0.000000e+00</td>\n",
       "      <td>0.000000e+00</td>\n",
       "      <td>0.000000e+00</td>\n",
       "    </tr>\n",
       "  </tbody>\n",
       "</table>\n",
       "<p>5 rows × 54 columns</p>\n",
       "</div>\n",
       "      <button class=\"colab-df-convert\" onclick=\"convertToInteractive('df-4ea0ebcd-f926-4532-812c-48aa4ca1f8fd')\"\n",
       "              title=\"Convert this dataframe to an interactive table.\"\n",
       "              style=\"display:none;\">\n",
       "        \n",
       "  <svg xmlns=\"http://www.w3.org/2000/svg\" height=\"24px\"viewBox=\"0 0 24 24\"\n",
       "       width=\"24px\">\n",
       "    <path d=\"M0 0h24v24H0V0z\" fill=\"none\"/>\n",
       "    <path d=\"M18.56 5.44l.94 2.06.94-2.06 2.06-.94-2.06-.94-.94-2.06-.94 2.06-2.06.94zm-11 1L8.5 8.5l.94-2.06 2.06-.94-2.06-.94L8.5 2.5l-.94 2.06-2.06.94zm10 10l.94 2.06.94-2.06 2.06-.94-2.06-.94-.94-2.06-.94 2.06-2.06.94z\"/><path d=\"M17.41 7.96l-1.37-1.37c-.4-.4-.92-.59-1.43-.59-.52 0-1.04.2-1.43.59L10.3 9.45l-7.72 7.72c-.78.78-.78 2.05 0 2.83L4 21.41c.39.39.9.59 1.41.59.51 0 1.02-.2 1.41-.59l7.78-7.78 2.81-2.81c.8-.78.8-2.07 0-2.86zM5.41 20L4 18.59l7.72-7.72 1.47 1.35L5.41 20z\"/>\n",
       "  </svg>\n",
       "      </button>\n",
       "      \n",
       "  <style>\n",
       "    .colab-df-container {\n",
       "      display:flex;\n",
       "      flex-wrap:wrap;\n",
       "      gap: 12px;\n",
       "    }\n",
       "\n",
       "    .colab-df-convert {\n",
       "      background-color: #E8F0FE;\n",
       "      border: none;\n",
       "      border-radius: 50%;\n",
       "      cursor: pointer;\n",
       "      display: none;\n",
       "      fill: #1967D2;\n",
       "      height: 32px;\n",
       "      padding: 0 0 0 0;\n",
       "      width: 32px;\n",
       "    }\n",
       "\n",
       "    .colab-df-convert:hover {\n",
       "      background-color: #E2EBFA;\n",
       "      box-shadow: 0px 1px 2px rgba(60, 64, 67, 0.3), 0px 1px 3px 1px rgba(60, 64, 67, 0.15);\n",
       "      fill: #174EA6;\n",
       "    }\n",
       "\n",
       "    [theme=dark] .colab-df-convert {\n",
       "      background-color: #3B4455;\n",
       "      fill: #D2E3FC;\n",
       "    }\n",
       "\n",
       "    [theme=dark] .colab-df-convert:hover {\n",
       "      background-color: #434B5C;\n",
       "      box-shadow: 0px 1px 3px 1px rgba(0, 0, 0, 0.15);\n",
       "      filter: drop-shadow(0px 1px 2px rgba(0, 0, 0, 0.3));\n",
       "      fill: #FFFFFF;\n",
       "    }\n",
       "  </style>\n",
       "\n",
       "      <script>\n",
       "        const buttonEl =\n",
       "          document.querySelector('#df-4ea0ebcd-f926-4532-812c-48aa4ca1f8fd button.colab-df-convert');\n",
       "        buttonEl.style.display =\n",
       "          google.colab.kernel.accessAllowed ? 'block' : 'none';\n",
       "\n",
       "        async function convertToInteractive(key) {\n",
       "          const element = document.querySelector('#df-4ea0ebcd-f926-4532-812c-48aa4ca1f8fd');\n",
       "          const dataTable =\n",
       "            await google.colab.kernel.invokeFunction('convertToInteractive',\n",
       "                                                     [key], {});\n",
       "          if (!dataTable) return;\n",
       "\n",
       "          const docLinkHtml = 'Like what you see? Visit the ' +\n",
       "            '<a target=\"_blank\" href=https://colab.research.google.com/notebooks/data_table.ipynb>data table notebook</a>'\n",
       "            + ' to learn more about interactive tables.';\n",
       "          element.innerHTML = '';\n",
       "          dataTable['output_type'] = 'display_data';\n",
       "          await google.colab.output.renderOutput(dataTable, element);\n",
       "          const docLink = document.createElement('div');\n",
       "          docLink.innerHTML = docLinkHtml;\n",
       "          element.appendChild(docLink);\n",
       "        }\n",
       "      </script>\n",
       "    </div>\n",
       "  </div>\n",
       "  "
      ],
      "text/plain": [
       "   source_node  destination_node  indicator_link  jaccard_followers  \\\n",
       "0       273084           1505602               1                  0   \n",
       "1       832016           1543415               1                  0   \n",
       "2      1325247            760242               1                  0   \n",
       "3      1368400           1006992               1                  0   \n",
       "4       140165           1708748               1                  0   \n",
       "\n",
       "   jaccard_followees  cosine_followers  cosine_followees  num_followers_s  \\\n",
       "0           0.000000          0.000000          0.000000                6   \n",
       "1           0.187135          0.028382          0.343828               94   \n",
       "2           0.369565          0.156957          0.566038               28   \n",
       "3           0.000000          0.000000          0.000000               11   \n",
       "4           0.000000          0.000000          0.000000                1   \n",
       "\n",
       "   num_followees_s  num_followees_d  ...     svd_v_s_3     svd_v_s_4  \\\n",
       "0               15                8  ...  1.983691e-06  1.545075e-13   \n",
       "1               61              142  ... -6.236048e-11  1.345726e-02   \n",
       "2               41               22  ... -2.380564e-19 -7.021227e-19   \n",
       "3                5                7  ...  6.058498e-11  1.514614e-11   \n",
       "4               11                3  ...  1.197283e-07  1.999809e-14   \n",
       "\n",
       "      svd_v_s_5     svd_v_s_6     svd_v_d_1     svd_v_d_2     svd_v_d_3  \\\n",
       "0  8.108434e-13  1.719702e-14 -1.355368e-12  4.675307e-13  1.128591e-06   \n",
       "1  3.703479e-12  2.251737e-10  1.245101e-12 -1.636948e-10 -3.112650e-10   \n",
       "2  1.940403e-19 -3.365389e-19 -1.238370e-18  1.438175e-19 -1.852863e-19   \n",
       "3  1.513483e-12  4.498061e-13 -9.818087e-10  3.454672e-11  5.213635e-08   \n",
       "4  3.360247e-13  1.407670e-14  0.000000e+00  0.000000e+00  0.000000e+00   \n",
       "\n",
       "      svd_v_d_4     svd_v_d_5     svd_v_d_6  \n",
       "0  6.616550e-14  9.771077e-13  4.159752e-14  \n",
       "1  6.738902e-02  2.607801e-11  2.372904e-09  \n",
       "2 -5.901864e-19  1.629341e-19 -2.572452e-19  \n",
       "3  9.595823e-13  3.047045e-10  1.246592e-13  \n",
       "4  0.000000e+00  0.000000e+00  0.000000e+00  \n",
       "\n",
       "[5 rows x 54 columns]"
      ]
     },
     "execution_count": 95,
     "metadata": {},
     "output_type": "execute_result"
    }
   ],
   "source": [
    "df_final_train.head()"
   ]
  },
  {
   "cell_type": "code",
   "execution_count": 96,
   "metadata": {
    "id": "lSdA-7O3MCQA"
   },
   "outputs": [],
   "source": [
    "#calculating source and destination node's vector's dot product\n",
    "df_final_train['SVD_dot'] = df_final_train.apply(lambda row: svd_dot(row['source_node'],row['destination_node'],U),axis=1)\n",
    "df_final_test['SVD_dot'] = df_final_test.apply(lambda row: svd_dot(row['source_node'],row['destination_node'],U),axis=1)\n"
   ]
  },
  {
   "cell_type": "code",
   "execution_count": 97,
   "metadata": {
    "colab": {
     "base_uri": "https://localhost:8080/",
     "height": 70
    },
    "id": "_jiCIQm_MCRI",
    "outputId": "2cc78df3-3cab-4576-e226-0bc1eb4b5dd9"
   },
   "outputs": [
    {
     "data": {
      "application/vnd.google.colaboratory.intrinsic+json": {
       "type": "string"
      },
      "text/plain": [
       "'def number_of_paths(x,y,G): \\n    ls=[]                                     #https://networkx.org/documentation/stable/reference/algorithms/generated/networkx.algorithms.simple_paths.all_simple_paths.html#networkx.algorithms.simple_paths.all_simple_paths\\n    for path in nx.all_simple_paths(G, source=x, target=y):\\n        ls.append(path)\\n    return len(ls)'"
      ]
     },
     "execution_count": 97,
     "metadata": {},
     "output_type": "execute_result"
    }
   ],
   "source": [
    "#this function is to calculate number of paths exist inbetween two nodes \n",
    "#but since the graph seems too large,it takes too much time to calculate even for a single node...so this code is commented out.\n",
    "\n",
    "'''def number_of_paths(x,y,G): \n",
    "    ls=[]                                     #https://networkx.org/documentation/stable/reference/algorithms/generated/networkx.algorithms.simple_paths.all_simple_paths.html#networkx.algorithms.simple_paths.all_simple_paths\n",
    "    for path in nx.all_simple_paths(G, source=x, target=y):\n",
    "        ls.append(path)\n",
    "    return len(ls)'''"
   ]
  },
  {
   "cell_type": "code",
   "execution_count": 49,
   "metadata": {
    "id": "1r6fPsu-MCUP"
   },
   "outputs": [],
   "source": [
    "#_final_train['number_of_paths'] = df_final_train.apply(lambda row: number_of_paths(row['source_node'],row['destination_node'],train_graph),axis=1)"
   ]
  },
  {
   "cell_type": "markdown",
   "metadata": {
    "id": "7xsP2aMVs-l0"
   },
   "source": [
    "### Preferential_attachment feature"
   ]
  },
  {
   "cell_type": "code",
   "execution_count": 98,
   "metadata": {
    "id": "1iXx4vjkMCKu"
   },
   "outputs": [],
   "source": [
    "#function to calulate preferential attachment\n",
    "#it is calculated by the multiplication between the number of friends (|Γ(x)|) or followers each vertex has.    reference taken from.... #http://be.amazd.com/link-prediction/\n",
    "def calc_preferential_attachment(a,b):\n",
    "    \n",
    "    try:\n",
    "        return (len(list(train_graph.predecessors(a))))*(len(list(train_graph.predecessors(b))))  #multiplication of number of neighbour(followers) of source and destination node\n",
    "    except:\n",
    "        return 0"
   ]
  },
  {
   "cell_type": "code",
   "execution_count": 99,
   "metadata": {
    "id": "uEPo_VLIidLA"
   },
   "outputs": [],
   "source": [
    "df_final_train['preferential_attachment'] = df_final_train.apply(lambda row: calc_preferential_attachment(row['source_node'],row['destination_node']),axis=1)\n",
    "df_final_test['preferential_attachment'] = df_final_test.apply(lambda row: calc_preferential_attachment(row['source_node'],row['destination_node']),axis=1)"
   ]
  },
  {
   "cell_type": "code",
   "execution_count": 102,
   "metadata": {
    "id": "iRtLgz6AjxAL"
   },
   "outputs": [],
   "source": [
    "y_train = df_final_train.indicator_link  #getting y_labels\n",
    "y_test = df_final_test.indicator_link"
   ]
  },
  {
   "cell_type": "code",
   "execution_count": 103,
   "metadata": {
    "id": "oMqEaHRPjxD-"
   },
   "outputs": [],
   "source": [
    "df_final_train.drop(['source_node', 'destination_node','indicator_link'],axis=1,inplace=True)   #drop the 3 columns\n",
    "df_final_test.drop(['source_node', 'destination_node','indicator_link'],axis=1,inplace=True)  "
   ]
  },
  {
   "cell_type": "markdown",
   "metadata": {
    "id": "LZVbqpeIjx1_"
   },
   "source": [
    "# Hyperparameter tuning"
   ]
  },
  {
   "cell_type": "code",
   "execution_count": 105,
   "metadata": {
    "colab": {
     "base_uri": "https://localhost:8080/",
     "height": 473
    },
    "id": "58kM3DjpMCXN",
    "outputId": "0052a6ac-c74c-4fa2-efd9-db9eb6db683a"
   },
   "outputs": [
    {
     "data": {
      "text/html": [
       "\n",
       "  <div id=\"df-57e839c2-33de-4021-926e-792d529a5646\">\n",
       "    <div class=\"colab-df-container\">\n",
       "      <div>\n",
       "<style scoped>\n",
       "    .dataframe tbody tr th:only-of-type {\n",
       "        vertical-align: middle;\n",
       "    }\n",
       "\n",
       "    .dataframe tbody tr th {\n",
       "        vertical-align: top;\n",
       "    }\n",
       "\n",
       "    .dataframe thead th {\n",
       "        text-align: right;\n",
       "    }\n",
       "</style>\n",
       "<table border=\"1\" class=\"dataframe\">\n",
       "  <thead>\n",
       "    <tr style=\"text-align: right;\">\n",
       "      <th></th>\n",
       "      <th>mean_fit_time</th>\n",
       "      <th>std_fit_time</th>\n",
       "      <th>mean_score_time</th>\n",
       "      <th>std_score_time</th>\n",
       "      <th>param_max_depth</th>\n",
       "      <th>param_min_samples_leaf</th>\n",
       "      <th>param_min_samples_split</th>\n",
       "      <th>param_n_estimators</th>\n",
       "      <th>params</th>\n",
       "      <th>split0_test_score</th>\n",
       "      <th>...</th>\n",
       "      <th>split2_train_score</th>\n",
       "      <th>split3_train_score</th>\n",
       "      <th>split4_train_score</th>\n",
       "      <th>split5_train_score</th>\n",
       "      <th>split6_train_score</th>\n",
       "      <th>split7_train_score</th>\n",
       "      <th>split8_train_score</th>\n",
       "      <th>split9_train_score</th>\n",
       "      <th>mean_train_score</th>\n",
       "      <th>std_train_score</th>\n",
       "    </tr>\n",
       "  </thead>\n",
       "  <tbody>\n",
       "    <tr>\n",
       "      <th>0</th>\n",
       "      <td>81.726707</td>\n",
       "      <td>1.597975</td>\n",
       "      <td>0.067168</td>\n",
       "      <td>0.002350</td>\n",
       "      <td>14</td>\n",
       "      <td>51</td>\n",
       "      <td>125</td>\n",
       "      <td>117</td>\n",
       "      <td>{'max_depth': 14, 'min_samples_leaf': 51, 'min...</td>\n",
       "      <td>0.980290</td>\n",
       "      <td>...</td>\n",
       "      <td>0.999700</td>\n",
       "      <td>0.999689</td>\n",
       "      <td>0.999767</td>\n",
       "      <td>0.999956</td>\n",
       "      <td>0.999944</td>\n",
       "      <td>0.999789</td>\n",
       "      <td>0.999911</td>\n",
       "      <td>0.999967</td>\n",
       "      <td>0.999843</td>\n",
       "      <td>0.000110</td>\n",
       "    </tr>\n",
       "    <tr>\n",
       "      <th>1</th>\n",
       "      <td>66.952500</td>\n",
       "      <td>1.025313</td>\n",
       "      <td>0.057987</td>\n",
       "      <td>0.001542</td>\n",
       "      <td>12</td>\n",
       "      <td>33</td>\n",
       "      <td>138</td>\n",
       "      <td>109</td>\n",
       "      <td>{'max_depth': 12, 'min_samples_leaf': 33, 'min...</td>\n",
       "      <td>0.980684</td>\n",
       "      <td>...</td>\n",
       "      <td>0.997352</td>\n",
       "      <td>0.997430</td>\n",
       "      <td>0.997698</td>\n",
       "      <td>0.997218</td>\n",
       "      <td>0.997040</td>\n",
       "      <td>0.997095</td>\n",
       "      <td>0.997720</td>\n",
       "      <td>0.997519</td>\n",
       "      <td>0.997332</td>\n",
       "      <td>0.000256</td>\n",
       "    </tr>\n",
       "    <tr>\n",
       "      <th>2</th>\n",
       "      <td>61.323466</td>\n",
       "      <td>2.076874</td>\n",
       "      <td>0.056409</td>\n",
       "      <td>0.002824</td>\n",
       "      <td>11</td>\n",
       "      <td>56</td>\n",
       "      <td>179</td>\n",
       "      <td>106</td>\n",
       "      <td>{'max_depth': 11, 'min_samples_leaf': 56, 'min...</td>\n",
       "      <td>0.980593</td>\n",
       "      <td>...</td>\n",
       "      <td>0.994707</td>\n",
       "      <td>0.994740</td>\n",
       "      <td>0.994404</td>\n",
       "      <td>0.994293</td>\n",
       "      <td>0.994774</td>\n",
       "      <td>0.995165</td>\n",
       "      <td>0.994897</td>\n",
       "      <td>0.994182</td>\n",
       "      <td>0.994585</td>\n",
       "      <td>0.000336</td>\n",
       "    </tr>\n",
       "    <tr>\n",
       "      <th>3</th>\n",
       "      <td>72.023542</td>\n",
       "      <td>1.551954</td>\n",
       "      <td>0.058923</td>\n",
       "      <td>0.001219</td>\n",
       "      <td>13</td>\n",
       "      <td>49</td>\n",
       "      <td>165</td>\n",
       "      <td>108</td>\n",
       "      <td>{'max_depth': 13, 'min_samples_leaf': 49, 'min...</td>\n",
       "      <td>0.980589</td>\n",
       "      <td>...</td>\n",
       "      <td>0.998433</td>\n",
       "      <td>0.998577</td>\n",
       "      <td>0.998989</td>\n",
       "      <td>0.998677</td>\n",
       "      <td>0.998644</td>\n",
       "      <td>0.998399</td>\n",
       "      <td>0.998800</td>\n",
       "      <td>0.998600</td>\n",
       "      <td>0.998625</td>\n",
       "      <td>0.000173</td>\n",
       "    </tr>\n",
       "    <tr>\n",
       "      <th>4</th>\n",
       "      <td>87.868321</td>\n",
       "      <td>1.228773</td>\n",
       "      <td>0.069272</td>\n",
       "      <td>0.001249</td>\n",
       "      <td>14</td>\n",
       "      <td>28</td>\n",
       "      <td>111</td>\n",
       "      <td>121</td>\n",
       "      <td>{'max_depth': 14, 'min_samples_leaf': 28, 'min...</td>\n",
       "      <td>0.980388</td>\n",
       "      <td>...</td>\n",
       "      <td>0.999878</td>\n",
       "      <td>0.999811</td>\n",
       "      <td>0.999900</td>\n",
       "      <td>1.000000</td>\n",
       "      <td>0.999956</td>\n",
       "      <td>0.999845</td>\n",
       "      <td>0.999933</td>\n",
       "      <td>1.000000</td>\n",
       "      <td>0.999913</td>\n",
       "      <td>0.000069</td>\n",
       "    </tr>\n",
       "  </tbody>\n",
       "</table>\n",
       "<p>5 rows × 34 columns</p>\n",
       "</div>\n",
       "      <button class=\"colab-df-convert\" onclick=\"convertToInteractive('df-57e839c2-33de-4021-926e-792d529a5646')\"\n",
       "              title=\"Convert this dataframe to an interactive table.\"\n",
       "              style=\"display:none;\">\n",
       "        \n",
       "  <svg xmlns=\"http://www.w3.org/2000/svg\" height=\"24px\"viewBox=\"0 0 24 24\"\n",
       "       width=\"24px\">\n",
       "    <path d=\"M0 0h24v24H0V0z\" fill=\"none\"/>\n",
       "    <path d=\"M18.56 5.44l.94 2.06.94-2.06 2.06-.94-2.06-.94-.94-2.06-.94 2.06-2.06.94zm-11 1L8.5 8.5l.94-2.06 2.06-.94-2.06-.94L8.5 2.5l-.94 2.06-2.06.94zm10 10l.94 2.06.94-2.06 2.06-.94-2.06-.94-.94-2.06-.94 2.06-2.06.94z\"/><path d=\"M17.41 7.96l-1.37-1.37c-.4-.4-.92-.59-1.43-.59-.52 0-1.04.2-1.43.59L10.3 9.45l-7.72 7.72c-.78.78-.78 2.05 0 2.83L4 21.41c.39.39.9.59 1.41.59.51 0 1.02-.2 1.41-.59l7.78-7.78 2.81-2.81c.8-.78.8-2.07 0-2.86zM5.41 20L4 18.59l7.72-7.72 1.47 1.35L5.41 20z\"/>\n",
       "  </svg>\n",
       "      </button>\n",
       "      \n",
       "  <style>\n",
       "    .colab-df-container {\n",
       "      display:flex;\n",
       "      flex-wrap:wrap;\n",
       "      gap: 12px;\n",
       "    }\n",
       "\n",
       "    .colab-df-convert {\n",
       "      background-color: #E8F0FE;\n",
       "      border: none;\n",
       "      border-radius: 50%;\n",
       "      cursor: pointer;\n",
       "      display: none;\n",
       "      fill: #1967D2;\n",
       "      height: 32px;\n",
       "      padding: 0 0 0 0;\n",
       "      width: 32px;\n",
       "    }\n",
       "\n",
       "    .colab-df-convert:hover {\n",
       "      background-color: #E2EBFA;\n",
       "      box-shadow: 0px 1px 2px rgba(60, 64, 67, 0.3), 0px 1px 3px 1px rgba(60, 64, 67, 0.15);\n",
       "      fill: #174EA6;\n",
       "    }\n",
       "\n",
       "    [theme=dark] .colab-df-convert {\n",
       "      background-color: #3B4455;\n",
       "      fill: #D2E3FC;\n",
       "    }\n",
       "\n",
       "    [theme=dark] .colab-df-convert:hover {\n",
       "      background-color: #434B5C;\n",
       "      box-shadow: 0px 1px 3px 1px rgba(0, 0, 0, 0.15);\n",
       "      filter: drop-shadow(0px 1px 2px rgba(0, 0, 0, 0.3));\n",
       "      fill: #FFFFFF;\n",
       "    }\n",
       "  </style>\n",
       "\n",
       "      <script>\n",
       "        const buttonEl =\n",
       "          document.querySelector('#df-57e839c2-33de-4021-926e-792d529a5646 button.colab-df-convert');\n",
       "        buttonEl.style.display =\n",
       "          google.colab.kernel.accessAllowed ? 'block' : 'none';\n",
       "\n",
       "        async function convertToInteractive(key) {\n",
       "          const element = document.querySelector('#df-57e839c2-33de-4021-926e-792d529a5646');\n",
       "          const dataTable =\n",
       "            await google.colab.kernel.invokeFunction('convertToInteractive',\n",
       "                                                     [key], {});\n",
       "          if (!dataTable) return;\n",
       "\n",
       "          const docLinkHtml = 'Like what you see? Visit the ' +\n",
       "            '<a target=\"_blank\" href=https://colab.research.google.com/notebooks/data_table.ipynb>data table notebook</a>'\n",
       "            + ' to learn more about interactive tables.';\n",
       "          element.innerHTML = '';\n",
       "          dataTable['output_type'] = 'display_data';\n",
       "          await google.colab.output.renderOutput(dataTable, element);\n",
       "          const docLink = document.createElement('div');\n",
       "          docLink.innerHTML = docLinkHtml;\n",
       "          element.appendChild(docLink);\n",
       "        }\n",
       "      </script>\n",
       "    </div>\n",
       "  </div>\n",
       "  "
      ],
      "text/plain": [
       "   mean_fit_time  std_fit_time  mean_score_time  std_score_time  \\\n",
       "0      81.726707      1.597975         0.067168        0.002350   \n",
       "1      66.952500      1.025313         0.057987        0.001542   \n",
       "2      61.323466      2.076874         0.056409        0.002824   \n",
       "3      72.023542      1.551954         0.058923        0.001219   \n",
       "4      87.868321      1.228773         0.069272        0.001249   \n",
       "\n",
       "  param_max_depth param_min_samples_leaf param_min_samples_split  \\\n",
       "0              14                     51                     125   \n",
       "1              12                     33                     138   \n",
       "2              11                     56                     179   \n",
       "3              13                     49                     165   \n",
       "4              14                     28                     111   \n",
       "\n",
       "  param_n_estimators                                             params  \\\n",
       "0                117  {'max_depth': 14, 'min_samples_leaf': 51, 'min...   \n",
       "1                109  {'max_depth': 12, 'min_samples_leaf': 33, 'min...   \n",
       "2                106  {'max_depth': 11, 'min_samples_leaf': 56, 'min...   \n",
       "3                108  {'max_depth': 13, 'min_samples_leaf': 49, 'min...   \n",
       "4                121  {'max_depth': 14, 'min_samples_leaf': 28, 'min...   \n",
       "\n",
       "   split0_test_score  ...  split2_train_score  split3_train_score  \\\n",
       "0           0.980290  ...            0.999700            0.999689   \n",
       "1           0.980684  ...            0.997352            0.997430   \n",
       "2           0.980593  ...            0.994707            0.994740   \n",
       "3           0.980589  ...            0.998433            0.998577   \n",
       "4           0.980388  ...            0.999878            0.999811   \n",
       "\n",
       "   split4_train_score  split5_train_score  split6_train_score  \\\n",
       "0            0.999767            0.999956            0.999944   \n",
       "1            0.997698            0.997218            0.997040   \n",
       "2            0.994404            0.994293            0.994774   \n",
       "3            0.998989            0.998677            0.998644   \n",
       "4            0.999900            1.000000            0.999956   \n",
       "\n",
       "   split7_train_score  split8_train_score  split9_train_score  \\\n",
       "0            0.999789            0.999911            0.999967   \n",
       "1            0.997095            0.997720            0.997519   \n",
       "2            0.995165            0.994897            0.994182   \n",
       "3            0.998399            0.998800            0.998600   \n",
       "4            0.999845            0.999933            1.000000   \n",
       "\n",
       "   mean_train_score  std_train_score  \n",
       "0          0.999843         0.000110  \n",
       "1          0.997332         0.000256  \n",
       "2          0.994585         0.000336  \n",
       "3          0.998625         0.000173  \n",
       "4          0.999913         0.000069  \n",
       "\n",
       "[5 rows x 34 columns]"
      ]
     },
     "execution_count": 105,
     "metadata": {},
     "output_type": "execute_result"
    }
   ],
   "source": [
    "\n",
    "\n",
    "param_dist = {\"n_estimators\":sp_randint(105,125),       #parameter list\n",
    "              \"max_depth\": sp_randint(10,15),\n",
    "              \"min_samples_split\": sp_randint(110,190),\n",
    "              \"min_samples_leaf\": sp_randint(25,65)}\n",
    "\n",
    "model = XGBClassifier(random_state=25,n_jobs=-1)       #xgboost classifier\n",
    "\n",
    "clf = RandomizedSearchCV(model, param_distributions=param_dist,\n",
    "                                   n_iter=5,cv=10,scoring='f1',random_state=25,return_train_score=True)\n",
    "clf.fit(df_final_train, y_train)    #fitting the  model with train data\n",
    "\n",
    "results = pd.DataFrame.from_dict(clf.cv_results_)   #storing Gridsearch results\n",
    "\n",
    "\n",
    "\n",
    "train_auc= results['mean_train_score']       #storing required Gridsearch results in required variable\n",
    "cv_auc = results['mean_test_score'] \n",
    "\n",
    "\n",
    "results.head()"
   ]
  },
  {
   "cell_type": "code",
   "execution_count": 106,
   "metadata": {
    "colab": {
     "base_uri": "https://localhost:8080/"
    },
    "id": "uQr-Ykpzjuj7",
    "outputId": "83f373df-1618-4239-8ad6-3bcbb3080d1d"
   },
   "outputs": [
    {
     "name": "stdout",
     "output_type": "stream",
     "text": [
      "0    0.999843\n",
      "1    0.997332\n",
      "2    0.994585\n",
      "3    0.998625\n",
      "4    0.999913\n",
      "Name: mean_train_score, dtype: float64\n",
      "0    0.980419\n",
      "1    0.980293\n",
      "2    0.980236\n",
      "3    0.980388\n",
      "4    0.980481\n",
      "Name: mean_test_score, dtype: float64\n"
     ]
    }
   ],
   "source": [
    "print(train_auc) \n",
    "print(cv_auc)"
   ]
  },
  {
   "cell_type": "code",
   "execution_count": 108,
   "metadata": {
    "colab": {
     "base_uri": "https://localhost:8080/"
    },
    "id": "beVt8a-lNwm5",
    "outputId": "3d44e65b-62ab-4deb-8b45-c3e5349b5bfb"
   },
   "outputs": [
    {
     "name": "stdout",
     "output_type": "stream",
     "text": [
      "XGBClassifier(max_depth=14, min_samples_leaf=28, min_samples_split=111,\n",
      "              n_estimators=121, n_jobs=-1, random_state=25)\n"
     ]
    }
   ],
   "source": [
    "print(clf.best_estimator_)  #getting the best estimator"
   ]
  },
  {
   "cell_type": "markdown",
   "metadata": {
    "id": "bimPLZ_Tj4w8"
   },
   "source": [
    "# Fitting the data with best hyperparameter"
   ]
  },
  {
   "cell_type": "code",
   "execution_count": 109,
   "metadata": {
    "colab": {
     "base_uri": "https://localhost:8080/",
     "height": 295
    },
    "id": "mMf0ULLyMCaA",
    "outputId": "8f486390-8ef9-4694-e142-a64c9ecbe0c5"
   },
   "outputs": [
    {
     "data": {
      "image/png": "[encoded data removed]",
      "text/plain": [
       "<Figure size 432x288 with 1 Axes>"
      ]
     },
     "metadata": {
      "needs_background": "light"
     },
     "output_type": "display_data"
    }
   ],
   "source": [
    "\n",
    "\n",
    "model=XGBClassifier(max_depth=14, min_samples_leaf=28, min_samples_split=111,   #best model\n",
    "              n_estimators=121, n_jobs=-1, random_state=25)\n",
    "\n",
    "model.fit(df_final_train, y_train) \n",
    "# roc_auc_score(y_true, y_score) the 2nd parameter should be probability estimates of the positive class,not the predicted outputs\n",
    "\n",
    "y_train_pred_proba = model.predict_proba(df_final_train)    \n",
    "y_test_pred_proba = model.predict_proba(df_final_test)\n",
    "\n",
    "train_fpr, train_tpr, tr_thresholds = roc_curve(y_train, y_train_pred_proba[:,[1]])        #find FPR and TPR for plotting roc curve\n",
    "test_fpr, test_tpr, te_thresholds = roc_curve(y_test, y_test_pred_proba[:,[1]])\n",
    "\n",
    "plt.plot(train_fpr, train_tpr, label=\"train AUC =\"+str(auc(train_fpr, train_tpr)))   #finding area under the ROC curve using FPR and TPR\n",
    "plt.plot(test_fpr, test_tpr, label=\"test AUC =\"+str(auc(test_fpr, test_tpr)))\n",
    "plt.legend()\n",
    "plt.xlabel(\"FPR\")\n",
    "plt.ylabel(\"TPR\")\n",
    "plt.title(\"ROC curve\")\n",
    "plt.grid()\n",
    "plt.show()"
   ]
  },
  {
   "cell_type": "code",
   "execution_count": 110,
   "metadata": {
    "colab": {
     "base_uri": "https://localhost:8080/"
    },
    "id": "R70TcnNrMCdR",
    "outputId": "bccfd461-fcac-4960-80c9-0e0c3ad5b980"
   },
   "outputs": [
    {
     "name": "stdout",
     "output_type": "stream",
     "text": [
      "Train f1 score 0.9998001598721024\n",
      "Test f1 score 0.9266542087828081\n"
     ]
    }
   ],
   "source": [
    "#f1 score\n",
    "\n",
    "from sklearn.metrics import f1_score\n",
    "y_train_pred = clf.predict(df_final_train)\n",
    "y_test_pred = clf.predict(df_final_test)\n",
    "print('Train f1 score',f1_score(y_train,y_train_pred))\n",
    "print('Test f1 score',f1_score(y_test,y_test_pred))"
   ]
  },
  {
   "cell_type": "markdown",
   "metadata": {
    "id": "HykZTIuYtQYo"
   },
   "source": [
    "### plotting confustion matrix"
   ]
  },
  {
   "cell_type": "code",
   "execution_count": 111,
   "metadata": {
    "id": "XZ70Y_t4Lihv"
   },
   "outputs": [],
   "source": [
    "\n",
    "\n",
    "from sklearn.metrics import confusion_matrix\n",
    "def plot_confusion_matrix(test_y, predict_y):\n",
    "    C = confusion_matrix(test_y, predict_y)\n",
    "    \n",
    "    A =(((C.T)/(C.sum(axis=1))).T)\n",
    "    \n",
    "    B =(C/C.sum(axis=0))\n",
    "    plt.figure(figsize=(20,4))\n",
    "    \n",
    "    labels = [0,1]\n",
    "    # representing A in heatmap format\n",
    "    cmap=sns.light_palette(\"blue\")\n",
    "    plt.subplot(1, 3, 1)\n",
    "    sns.heatmap(C, annot=True, cmap=cmap, fmt=\".3f\", xticklabels=labels, yticklabels=labels)\n",
    "    plt.xlabel('Predicted Class')\n",
    "    plt.ylabel('Original Class')\n",
    "    plt.title(\"Confusion matrix\")\n",
    "    \n",
    "    plt.subplot(1, 3, 2)\n",
    "    sns.heatmap(B, annot=True, cmap=cmap, fmt=\".3f\", xticklabels=labels, yticklabels=labels)\n",
    "    plt.xlabel('Predicted Class')\n",
    "    plt.ylabel('Original Class')\n",
    "    plt.title(\"Precision matrix\")\n",
    "    \n",
    "    plt.subplot(1, 3, 3)\n",
    "    # representing B in heatmap format\n",
    "    sns.heatmap(A, annot=True, cmap=cmap, fmt=\".3f\", xticklabels=labels, yticklabels=labels)\n",
    "    plt.xlabel('Predicted Class')\n",
    "    plt.ylabel('Original Class')\n",
    "    plt.title(\"Recall matrix\")\n",
    "    \n",
    "    plt.show()"
   ]
  },
  {
   "cell_type": "code",
   "execution_count": 112,
   "metadata": {
    "colab": {
     "base_uri": "https://localhost:8080/",
     "height": 592
    },
    "id": "7f1Aip4EBV6G",
    "outputId": "f58cae75-bdd3-4f7e-fe67-2977dc71bdc5"
   },
   "outputs": [
    {
     "name": "stdout",
     "output_type": "stream",
     "text": [
      "Train confusion_matrix\n"
     ]
    },
    {
     "data": {
      "image/png": "[encoded data removed]",
      "text/plain": [
       "<Figure size 1440x288 with 6 Axes>"
      ]
     },
     "metadata": {
      "needs_background": "light"
     },
     "output_type": "display_data"
    },
    {
     "name": "stdout",
     "output_type": "stream",
     "text": [
      "Test confusion_matrix\n"
     ]
    },
    {
     "data": {
      "image/png": "[encoded data removed]",
      "text/plain": [
       "<Figure size 1440x288 with 6 Axes>"
      ]
     },
     "metadata": {
      "needs_background": "light"
     },
     "output_type": "display_data"
    }
   ],
   "source": [
    "print('Train confusion_matrix')\n",
    "plot_confusion_matrix(y_train,y_train_pred)\n",
    "print('Test confusion_matrix')\n",
    "plot_confusion_matrix(y_test,y_test_pred)"
   ]
  },
  {
   "cell_type": "markdown",
   "metadata": {
    "id": "lNrH3HCbtUzu"
   },
   "source": [
    "## plotting roc curve for test data"
   ]
  },
  {
   "cell_type": "code",
   "execution_count": 113,
   "metadata": {
    "colab": {
     "base_uri": "https://localhost:8080/",
     "height": 295
    },
    "id": "EfI0UYdJBV9Z",
    "outputId": "8519b2ee-8aac-4120-a394-05ce91feb9fe"
   },
   "outputs": [
    {
     "data": {
      "image/png": "[encoded data removed]",
      "text/plain": [
       "<Figure size 432x288 with 1 Axes>"
      ]
     },
     "metadata": {
      "needs_background": "light"
     },
     "output_type": "display_data"
    }
   ],
   "source": [
    "\n",
    "from sklearn.metrics import roc_curve, auc\n",
    "fpr,tpr,ths = roc_curve(y_test, y_test_pred_proba[:,[1]]) # roc_auc_score(y_true, y_score) the 2nd parameter should be probability estimates of the positive class,not the predicted outputs\n",
    "auc_sc = auc(fpr, tpr)\n",
    "plt.plot(fpr, tpr, color='navy',label='ROC curve (area = %0.2f)' % auc_sc)\n",
    "plt.xlabel('False Positive Rate')\n",
    "plt.ylabel('True Positive Rate')\n",
    "plt.title('Receiver operating characteristic with test data')\n",
    "plt.legend()\n",
    "plt.show()"
   ]
  },
  {
   "cell_type": "markdown",
   "metadata": {
    "id": "ErnoOJVotaIS"
   },
   "source": [
    "### Getting the top 25 important features and plotting them"
   ]
  },
  {
   "cell_type": "code",
   "execution_count": 114,
   "metadata": {
    "colab": {
     "base_uri": "https://localhost:8080/",
     "height": 730
    },
    "id": "9vaXq_P5BWBY",
    "outputId": "ab608c15-336f-4488-9685-3a3be3195cd5"
   },
   "outputs": [
    {
     "data": {
      "image/png": "[encoded data removed]",
      "text/plain": [
       "<Figure size 720x864 with 1 Axes>"
      ]
     },
     "metadata": {
      "needs_background": "light"
     },
     "output_type": "display_data"
    }
   ],
   "source": [
    "\n",
    "\n",
    "features = df_final_train.columns\n",
    "importances = model.feature_importances_\n",
    "indices = (np.argsort(importances))[-25:]      #index of max value features\n",
    "plt.figure(figsize=(10,12))\n",
    "plt.title('Feature Importances')\n",
    "plt.barh(range(len(indices)), importances[indices], color='r', align='center')   #draw a bar\n",
    "plt.yticks(range(len(indices)), [features[i] for i in indices]) #give a name to that bar...... #features[i]--feature name of given index feature\n",
    "plt.xlabel('Relative Importance')\n",
    "plt.show()"
   ]
  },
  {
   "cell_type": "markdown",
   "metadata": {
    "id": "mBifc09KmOfV"
   },
   "source": [
    "- we can observe that newly added SVD_dot feature have significant feature important score"
   ]
  },
  {
   "cell_type": "markdown",
   "metadata": {},
   "source": [
    "# Pretty table"
   ]
  },
  {
   "cell_type": "code",
   "execution_count": 9,
   "metadata": {},
   "outputs": [
    {
     "name": "stdout",
     "output_type": "stream",
     "text": [
      "+---------+--------------------------------+----------------+---------------+-----------+----------+\n",
      "|  Model  |        hyperparamerter         | train f1 score | test f1 score | train_AUC | test_AUC |\n",
      "+---------+--------------------------------+----------------+---------------+-----------+----------+\n",
      "| Xgboost | MSL=28,MD=14,N=121 and MSS=111 |     0.9998     |    0.92665    |   0.9999  |  0.9523  |\n",
      "+---------+--------------------------------+----------------+---------------+-----------+----------+\n"
     ]
    }
   ],
   "source": [
    "from prettytable import PrettyTable              # Reference Link for Pretty table:  https://pypi.org/project/prettytable/\n",
    "x = PrettyTable()\n",
    "x.field_names = [\"Model\", \"hyperparamerter\", \"train f1 score\",\"test f1 score\",\"train_AUC\",\"test_AUC\"]\n",
    "x.add_row([\"Xgboost\", \"MSL=28,MD=14,N=121 and MSS=111\",0.99980,0.92665,0.9999,0.9523])\n",
    "print(x)"
   ]
  },
  {
   "cell_type": "markdown",
   "metadata": {},
   "source": [
    "- Here **MSL,MD,N and MSS** represents **min_samples_leaf , max_depth , n_estimators , min_samples_split** respectively"
   ]
  },
  {
   "cell_type": "markdown",
   "metadata": {
    "id": "bBh0IlxWmdBf"
   },
   "source": [
    "# Procedure we have taken\n",
    "- we are given with source and destination nodes as a raw data and asked to predict the higher possibility of forming a link between non connected source and destination nodes based on the given connected nodes data\n",
    "\n",
    "\n",
    "- we first decided to pose it as binary class classfication problem in which given a source and destination node ,if y=1 that means ,they can be suggested to connect to each other and y=0 represent they are not suggested to have connection between them.\n",
    "\n",
    "\n",
    "- for this take we are  given with already connected nodes only...so we created train and test data for the non connected node pairs also by assuming that which ever node pair is having **shorted path distance more that 2**, we make them as non connected node pairs\n",
    "\n",
    "\n",
    "- then we created feature using graph based property like **Jaccard similarity,Cosine distance, Page Ranking,Adamic/Adar Index,Katz Centrality** and ect....and part of this assignment we also added  **svd_dot and Preferential Attachment** features also\n",
    "\n",
    "\n",
    "- then we hyperparameter tuned the xgboost model with **n_estimators,max_depth,min_samples_split,min_samples_leaf** as hyperparamter and did the random search to get best value for all hyper parameter...\n",
    "\n",
    "\n",
    "- Finally we fitted the best model with the data and arrived with **train auc of 0.9999 and test auc of 0.9523** and we also plotted the feature important score for **top 25 features** in which **follows back and cosine followers**have got top scores and newly added feature **SVD_dot** also contributed significatly to the preformance of our model..."
   ]
  },
  {
   "cell_type": "markdown",
   "metadata": {},
   "source": [
    "# Observation\n",
    "- After we fitted the data to the Xgboost model, for **train data we got precision and recall of 1** for both the classes...\n",
    "\n",
    "\n",
    "- for **class 0 of test data** we got **precision of 88.7% and recall of 98.7%**. It means that 'of all the nodes pairs that are predicted to have no link,88.7% of them are actullay have no link'... and 'of all the node pairs that are actullay do not have links,98.7% are correctly predicted \n",
    "\n",
    "\n",
    "- for **class 1 of test data** we got **precision of 98.6% and recall of 87.4%**. It means that 'of all the nodes pairs that are predicted to have link,98.6% of them are actullay have a link'... and 'of all the node pairs that are actullay have links,87.4% are correctly predicted.\n",
    "\n",
    "\n",
    "- we got **train auc of 0.9999 and test auc of 0.9523**...train auc is very large because tree based model (xgboost ) do overfit...here the both train and test auc is very good.\n",
    "\n",
    "\n",
    "- we got high feature importance score for **\"follows_back\"** feature which can be interpreted as if someone follows back his followers then **high value of follows_back means that they are more likely to form new connections with others**.\n"
   ]
  },
  {
   "cell_type": "code",
   "execution_count": null,
   "metadata": {},
   "outputs": [],
   "source": []
  }
 ],
 "metadata": {
  "accelerator": "GPU",
  "colab": {
   "collapsed_sections": [],
   "provenance": []
  },
  "gpuClass": "standard",
  "kernelspec": {
   "display_name": "Python 3 (ipykernel)",
   "language": "python",
   "name": "python3"
  },
  "language_info": {
   "codemirror_mode": {
    "name": "ipython",
    "version": 3
   },
   "file_extension": ".py",
   "mimetype": "text/x-python",
   "name": "python",
   "nbconvert_exporter": "python",
   "pygments_lexer": "ipython3",
   "version": "3.9.12"
  }
 },
 "nbformat": 4,
 "nbformat_minor": 1
}
