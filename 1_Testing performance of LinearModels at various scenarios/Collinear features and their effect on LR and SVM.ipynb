{
 "cells": [
  {
   "cell_type": "markdown",
   "metadata": {
    "colab_type": "text",
    "id": "86Tvnj5UblTy"
   },
   "source": [
    "# ----------------- Collinear features and their effect on linear models----------------"
   ]
  },
  {
   "cell_type": "code",
   "execution_count": 68,
   "metadata": {
    "colab": {},
    "colab_type": "code",
    "id": "qn_eOn2EblT3"
   },
   "outputs": [],
   "source": [
    "%matplotlib inline\n",
    "import warnings\n",
    "warnings.filterwarnings(\"ignore\")\n",
    "import pandas as pd\n",
    "import numpy as np\n",
    "from sklearn.datasets import load_iris\n",
    "from sklearn.linear_model import SGDClassifier\n",
    "from sklearn.model_selection import GridSearchCV\n",
    "import seaborn as sns\n",
    "import matplotlib.pyplot as plt"
   ]
  },
  {
   "cell_type": "code",
   "execution_count": 69,
   "metadata": {
    "colab": {},
    "colab_type": "code",
    "id": "VMoYWIayblUB"
   },
   "outputs": [],
   "source": [
    "data = pd.read_csv('task_d.csv') #loading data"
   ]
  },
  {
   "cell_type": "code",
   "execution_count": 70,
   "metadata": {
    "colab": {},
    "colab_type": "code",
    "id": "RfStXG4tblUI",
    "outputId": "ddf4eec6-7f53-4d28-914f-23133957d6d5"
   },
   "outputs": [
    {
     "data": {
      "text/html": [
       "<div>\n",
       "<style scoped>\n",
       "    .dataframe tbody tr th:only-of-type {\n",
       "        vertical-align: middle;\n",
       "    }\n",
       "\n",
       "    .dataframe tbody tr th {\n",
       "        vertical-align: top;\n",
       "    }\n",
       "\n",
       "    .dataframe thead th {\n",
       "        text-align: right;\n",
       "    }\n",
       "</style>\n",
       "<table border=\"1\" class=\"dataframe\">\n",
       "  <thead>\n",
       "    <tr style=\"text-align: right;\">\n",
       "      <th></th>\n",
       "      <th>x</th>\n",
       "      <th>y</th>\n",
       "      <th>z</th>\n",
       "      <th>x*x</th>\n",
       "      <th>2*y</th>\n",
       "      <th>2*z+3*x*x</th>\n",
       "      <th>w</th>\n",
       "      <th>target</th>\n",
       "    </tr>\n",
       "  </thead>\n",
       "  <tbody>\n",
       "    <tr>\n",
       "      <th>0</th>\n",
       "      <td>-0.581066</td>\n",
       "      <td>0.841837</td>\n",
       "      <td>-1.012978</td>\n",
       "      <td>-0.604025</td>\n",
       "      <td>0.841837</td>\n",
       "      <td>-0.665927</td>\n",
       "      <td>-0.536277</td>\n",
       "      <td>0</td>\n",
       "    </tr>\n",
       "    <tr>\n",
       "      <th>1</th>\n",
       "      <td>-0.894309</td>\n",
       "      <td>-0.207835</td>\n",
       "      <td>-1.012978</td>\n",
       "      <td>-0.883052</td>\n",
       "      <td>-0.207835</td>\n",
       "      <td>-0.917054</td>\n",
       "      <td>-0.522364</td>\n",
       "      <td>0</td>\n",
       "    </tr>\n",
       "    <tr>\n",
       "      <th>2</th>\n",
       "      <td>-1.207552</td>\n",
       "      <td>0.212034</td>\n",
       "      <td>-1.082312</td>\n",
       "      <td>-1.150918</td>\n",
       "      <td>0.212034</td>\n",
       "      <td>-1.166507</td>\n",
       "      <td>0.205738</td>\n",
       "      <td>0</td>\n",
       "    </tr>\n",
       "    <tr>\n",
       "      <th>3</th>\n",
       "      <td>-1.364174</td>\n",
       "      <td>0.002099</td>\n",
       "      <td>-0.943643</td>\n",
       "      <td>-1.280666</td>\n",
       "      <td>0.002099</td>\n",
       "      <td>-1.266540</td>\n",
       "      <td>-0.665720</td>\n",
       "      <td>0</td>\n",
       "    </tr>\n",
       "    <tr>\n",
       "      <th>4</th>\n",
       "      <td>-0.737687</td>\n",
       "      <td>1.051772</td>\n",
       "      <td>-1.012978</td>\n",
       "      <td>-0.744934</td>\n",
       "      <td>1.051772</td>\n",
       "      <td>-0.792746</td>\n",
       "      <td>-0.735054</td>\n",
       "      <td>0</td>\n",
       "    </tr>\n",
       "  </tbody>\n",
       "</table>\n",
       "</div>"
      ],
      "text/plain": [
       "          x         y         z       x*x       2*y  2*z+3*x*x         w  \\\n",
       "0 -0.581066  0.841837 -1.012978 -0.604025  0.841837  -0.665927 -0.536277   \n",
       "1 -0.894309 -0.207835 -1.012978 -0.883052 -0.207835  -0.917054 -0.522364   \n",
       "2 -1.207552  0.212034 -1.082312 -1.150918  0.212034  -1.166507  0.205738   \n",
       "3 -1.364174  0.002099 -0.943643 -1.280666  0.002099  -1.266540 -0.665720   \n",
       "4 -0.737687  1.051772 -1.012978 -0.744934  1.051772  -0.792746 -0.735054   \n",
       "\n",
       "   target  \n",
       "0       0  \n",
       "1       0  \n",
       "2       0  \n",
       "3       0  \n",
       "4       0  "
      ]
     },
     "execution_count": 70,
     "metadata": {},
     "output_type": "execute_result"
    }
   ],
   "source": [
    "data.head()"
   ]
  },
  {
   "cell_type": "code",
   "execution_count": 71,
   "metadata": {
    "colab": {},
    "colab_type": "code",
    "id": "JIIuomCkblUP"
   },
   "outputs": [],
   "source": [
    "X = data.drop(['target'], axis=1).values\n",
    "Y = data['target'].values\n",
    "#X.shape\n",
    "feature_names=data.columns[:-1]\n"
   ]
  },
  {
   "cell_type": "code",
   "execution_count": 72,
   "metadata": {},
   "outputs": [
    {
     "data": {
      "text/plain": [
       "'X = data.drop([\"x*x\",\"2*y\",\"2*z+3*x*x\",\\'target\\'], axis=1).values         #dropping collinear features\\nY = data[\\'target\\'].values\\n\\nfeature_names=[\"x\",\"y\",\"z\",\"w\"]\\nX.shape'"
      ]
     },
     "execution_count": 72,
     "metadata": {},
     "output_type": "execute_result"
    }
   ],
   "source": [
    "# unquotes to see how our model performs while data with non collinear features\n",
    "\n",
    "'''X = data.drop([\"x*x\",\"2*y\",\"2*z+3*x*x\",'target'], axis=1).values         #dropping collinear features\n",
    "Y = data['target'].values\n",
    "\n",
    "feature_names=[\"x\",\"y\",\"z\",\"w\"]\n",
    "X.shape'''"
   ]
  },
  {
   "cell_type": "markdown",
   "metadata": {
    "colab": {},
    "colab_type": "code",
    "id": "Lai8wXU1pmSb"
   },
   "source": [
    "#### Task: 1 Logistic Regression"
   ]
  },
  {
   "cell_type": "markdown",
   "metadata": {},
   "source": [
    "# 1)Finding the Correlation between the features"
   ]
  },
  {
   "cell_type": "code",
   "execution_count": 73,
   "metadata": {},
   "outputs": [
    {
     "data": {
      "text/html": [
       "<div>\n",
       "<style scoped>\n",
       "    .dataframe tbody tr th:only-of-type {\n",
       "        vertical-align: middle;\n",
       "    }\n",
       "\n",
       "    .dataframe tbody tr th {\n",
       "        vertical-align: top;\n",
       "    }\n",
       "\n",
       "    .dataframe thead th {\n",
       "        text-align: right;\n",
       "    }\n",
       "</style>\n",
       "<table border=\"1\" class=\"dataframe\">\n",
       "  <thead>\n",
       "    <tr style=\"text-align: right;\">\n",
       "      <th></th>\n",
       "      <th>x</th>\n",
       "      <th>y</th>\n",
       "      <th>z</th>\n",
       "      <th>x*x</th>\n",
       "      <th>2*y</th>\n",
       "      <th>2*z+3*x*x</th>\n",
       "      <th>w</th>\n",
       "      <th>target</th>\n",
       "    </tr>\n",
       "  </thead>\n",
       "  <tbody>\n",
       "    <tr>\n",
       "      <th>x</th>\n",
       "      <td>1.000000</td>\n",
       "      <td>-0.205926</td>\n",
       "      <td>0.812458</td>\n",
       "      <td>0.997947</td>\n",
       "      <td>-0.205926</td>\n",
       "      <td>0.996252</td>\n",
       "      <td>0.583277</td>\n",
       "      <td>0.728290</td>\n",
       "    </tr>\n",
       "    <tr>\n",
       "      <th>y</th>\n",
       "      <td>-0.205926</td>\n",
       "      <td>1.000000</td>\n",
       "      <td>-0.602663</td>\n",
       "      <td>-0.209289</td>\n",
       "      <td>1.000000</td>\n",
       "      <td>-0.261123</td>\n",
       "      <td>-0.401790</td>\n",
       "      <td>-0.690684</td>\n",
       "    </tr>\n",
       "    <tr>\n",
       "      <th>z</th>\n",
       "      <td>0.812458</td>\n",
       "      <td>-0.602663</td>\n",
       "      <td>1.000000</td>\n",
       "      <td>0.807137</td>\n",
       "      <td>-0.602663</td>\n",
       "      <td>0.847163</td>\n",
       "      <td>0.674486</td>\n",
       "      <td>0.969990</td>\n",
       "    </tr>\n",
       "    <tr>\n",
       "      <th>x*x</th>\n",
       "      <td>0.997947</td>\n",
       "      <td>-0.209289</td>\n",
       "      <td>0.807137</td>\n",
       "      <td>1.000000</td>\n",
       "      <td>-0.209289</td>\n",
       "      <td>0.997457</td>\n",
       "      <td>0.583803</td>\n",
       "      <td>0.719570</td>\n",
       "    </tr>\n",
       "    <tr>\n",
       "      <th>2*y</th>\n",
       "      <td>-0.205926</td>\n",
       "      <td>1.000000</td>\n",
       "      <td>-0.602663</td>\n",
       "      <td>-0.209289</td>\n",
       "      <td>1.000000</td>\n",
       "      <td>-0.261123</td>\n",
       "      <td>-0.401790</td>\n",
       "      <td>-0.690684</td>\n",
       "    </tr>\n",
       "    <tr>\n",
       "      <th>2*z+3*x*x</th>\n",
       "      <td>0.996252</td>\n",
       "      <td>-0.261123</td>\n",
       "      <td>0.847163</td>\n",
       "      <td>0.997457</td>\n",
       "      <td>-0.261123</td>\n",
       "      <td>1.000000</td>\n",
       "      <td>0.606860</td>\n",
       "      <td>0.764729</td>\n",
       "    </tr>\n",
       "    <tr>\n",
       "      <th>w</th>\n",
       "      <td>0.583277</td>\n",
       "      <td>-0.401790</td>\n",
       "      <td>0.674486</td>\n",
       "      <td>0.583803</td>\n",
       "      <td>-0.401790</td>\n",
       "      <td>0.606860</td>\n",
       "      <td>1.000000</td>\n",
       "      <td>0.641750</td>\n",
       "    </tr>\n",
       "    <tr>\n",
       "      <th>target</th>\n",
       "      <td>0.728290</td>\n",
       "      <td>-0.690684</td>\n",
       "      <td>0.969990</td>\n",
       "      <td>0.719570</td>\n",
       "      <td>-0.690684</td>\n",
       "      <td>0.764729</td>\n",
       "      <td>0.641750</td>\n",
       "      <td>1.000000</td>\n",
       "    </tr>\n",
       "  </tbody>\n",
       "</table>\n",
       "</div>"
      ],
      "text/plain": [
       "                  x         y         z       x*x       2*y  2*z+3*x*x  \\\n",
       "x          1.000000 -0.205926  0.812458  0.997947 -0.205926   0.996252   \n",
       "y         -0.205926  1.000000 -0.602663 -0.209289  1.000000  -0.261123   \n",
       "z          0.812458 -0.602663  1.000000  0.807137 -0.602663   0.847163   \n",
       "x*x        0.997947 -0.209289  0.807137  1.000000 -0.209289   0.997457   \n",
       "2*y       -0.205926  1.000000 -0.602663 -0.209289  1.000000  -0.261123   \n",
       "2*z+3*x*x  0.996252 -0.261123  0.847163  0.997457 -0.261123   1.000000   \n",
       "w          0.583277 -0.401790  0.674486  0.583803 -0.401790   0.606860   \n",
       "target     0.728290 -0.690684  0.969990  0.719570 -0.690684   0.764729   \n",
       "\n",
       "                  w    target  \n",
       "x          0.583277  0.728290  \n",
       "y         -0.401790 -0.690684  \n",
       "z          0.674486  0.969990  \n",
       "x*x        0.583803  0.719570  \n",
       "2*y       -0.401790 -0.690684  \n",
       "2*z+3*x*x  0.606860  0.764729  \n",
       "w          1.000000  0.641750  \n",
       "target     0.641750  1.000000  "
      ]
     },
     "execution_count": 73,
     "metadata": {},
     "output_type": "execute_result"
    }
   ],
   "source": [
    "data.corr()    #getting correlation of features"
   ]
  },
  {
   "cell_type": "markdown",
   "metadata": {},
   "source": [
    "### Heatmap"
   ]
  },
  {
   "cell_type": "code",
   "execution_count": 74,
   "metadata": {},
   "outputs": [
    {
     "data": {
      "image/png": "[encoded data removed]",
      "text/plain": [
       "<Figure size 720x720 with 2 Axes>"
      ]
     },
     "metadata": {
      "needs_background": "light"
     },
     "output_type": "display_data"
    }
   ],
   "source": [
    "plt.figure(figsize = (10,10))  #how to draw correlation heatmap: https://www.geeksforgeeks.org/how-to-create-a-seaborn-correlation-heatmap-in-python/\n",
    "dataplot = sns.heatmap(data.corr(), cmap=\"Blues\", annot=True)"
   ]
  },
  {
   "cell_type": "markdown",
   "metadata": {},
   "source": [
    "# 2) Finding the best model for the given data"
   ]
  },
  {
   "cell_type": "code",
   "execution_count": 75,
   "metadata": {},
   "outputs": [
    {
     "name": "stdout",
     "output_type": "stream",
     "text": [
      " alpha ---->  [1e-05, 0.0001, 0.0005, 0.001, 0.005, 0.01, 0.05, 0.1, 0.5, 1, 5, 10, 50, 100]\n",
      " log(alpha)---->   [-5.      -4.      -3.30103 -3.      -2.30103 -2.      -1.30103 -1.\n",
      " -0.30103  0.       0.69897  1.       1.69897  2.     ]\n"
     ]
    },
    {
     "data": {
      "image/png": "[encoded data removed]",
      "text/plain": [
       "<Figure size 432x288 with 1 Axes>"
      ]
     },
     "metadata": {
      "needs_background": "light"
     },
     "output_type": "display_data"
    }
   ],
   "source": [
    "parameters = {'alpha':[0.00001,0.0005, 0.0001,0.005,0.001,0.05,0.01,0.1,0.5,1,5,10,50,100]}\n",
    "lr=SGDClassifier(loss=\"log_loss\")                                                 #Logistic regression\n",
    "clf=GridSearchCV(lr,parameters,cv=3, scoring='roc_auc',return_train_score=True)   #hyper parameter tuning\n",
    "\n",
    "clf.fit(X, Y)                                      #fitting the LR model with train data\n",
    "\n",
    "results = pd.DataFrame.from_dict(clf.cv_results_)   #storing Gridsearch results\n",
    "\n",
    "results = results.sort_values(['param_alpha'])\n",
    "\n",
    "train_auc= results['mean_train_score']       #storing required Gridsearch results in required variable\n",
    "train_auc_std= results['std_train_score']\n",
    "cv_auc = results['mean_test_score'] \n",
    "#cv_auc_std= results['std_test_score']\n",
    "alpha =  results['param_alpha'].tolist()\n",
    "print(\" alpha ----> \",alpha)\n",
    "print(\" log(alpha)---->  \",np.log10(alpha))\n",
    "\n",
    "plt.plot(np.log10(alpha), train_auc, label='Train AUC')   #plotting auc vs log(alpha) values\n",
    "plt.plot(np.log10(alpha), cv_auc, label='CV AUC')\n",
    "\n",
    "plt.scatter(np.log10(alpha), train_auc, label='Train AUC points')\n",
    "plt.scatter(np.log10(alpha), cv_auc, label='CV AUC points')\n",
    "plt.legend()\n",
    "plt.xlabel(\"log(alpha)\")\n",
    "plt.ylabel(\"AUC\")\n",
    "plt.title(\"Hyper parameter Vs AUC plot\")\n",
    "plt.grid()\n",
    "plt.show()"
   ]
  },
  {
   "cell_type": "markdown",
   "metadata": {},
   "source": [
    "### Fitting the best model with the original data and getting weight vector"
   ]
  },
  {
   "cell_type": "code",
   "execution_count": 76,
   "metadata": {},
   "outputs": [],
   "source": [
    "best_model=SGDClassifier(loss=\"log_loss\",alpha=1)     #finding best model with best alpha\n",
    "\n",
    "best_model.fit(X,Y)                                    #fitting the best model\n",
    "best_model_accuracy=best_model.score(X, Y)\n",
    "weights=best_model.coef_\n"
   ]
  },
  {
   "cell_type": "markdown",
   "metadata": {},
   "source": [
    "# 3) modifying the original data(pertubation) and with that fitting the best model again "
   ]
  },
  {
   "cell_type": "code",
   "execution_count": 77,
   "metadata": {
    "scrolled": true
   },
   "outputs": [],
   "source": [
    "X_pretubated=X+0.01            #adding small noise to data X"
   ]
  },
  {
   "cell_type": "code",
   "execution_count": 78,
   "metadata": {},
   "outputs": [],
   "source": [
    "best_model=SGDClassifier(loss=\"log_loss\",alpha=1)   \n",
    "\n",
    "best_model.fit(X_pretubated,Y)           #fitting the pertubated data with the best alpha model\n",
    "best_model_accuracy_edited = best_model.score(X_pretubated, Y)\n",
    "weights_edited=best_model.coef_          #getting the weight vector\n"
   ]
  },
  {
   "cell_type": "markdown",
   "metadata": {},
   "source": [
    "# 4) Checking deviations in metric and weights "
   ]
  },
  {
   "cell_type": "code",
   "execution_count": 79,
   "metadata": {},
   "outputs": [],
   "source": [
    "precentage_change_in_weights=(abs(weights-weights_edited)/weights)*100\n",
    "absolute_precentage_change_in_weights=abs(precentage_change_in_weights)             #absolute value of percentage change in weight\n",
    "sorted_percentage_weight_index=(-absolute_precentage_change_in_weights).argsort()   #soring index according to the decenting order of absolute value of percentage change in weight "
   ]
  },
  {
   "cell_type": "code",
   "execution_count": 80,
   "metadata": {},
   "outputs": [
    {
     "name": "stdout",
     "output_type": "stream",
     "text": [
      "x*x\n",
      "2*z+3*x*x\n",
      "x\n",
      "w\n"
     ]
    }
   ],
   "source": [
    "#printing the top 4 feature names which has most precentage change in weight after pertubation\n",
    "for n, i in enumerate( sorted_percentage_weight_index[0]):\n",
    "    if n <4:\n",
    "        print(feature_names[i])"
   ]
  },
  {
   "cell_type": "markdown",
   "metadata": {},
   "source": [
    "# SVM "
   ]
  },
  {
   "cell_type": "markdown",
   "metadata": {},
   "source": [
    "## 2) Finding the best model for the given data"
   ]
  },
  {
   "cell_type": "code",
   "execution_count": 81,
   "metadata": {
    "scrolled": true
   },
   "outputs": [
    {
     "name": "stdout",
     "output_type": "stream",
     "text": [
      " alpha--------->   [1e-05, 0.0001, 0.0005, 0.001, 0.005, 0.01, 0.05, 0.1, 0.5, 1, 5, 10, 50, 100]\n",
      " log(alpha)------->   [-5.      -4.      -3.30103 -3.      -2.30103 -2.      -1.30103 -1.\n",
      " -0.30103  0.       0.69897  1.       1.69897  2.     ]\n"
     ]
    },
    {
     "data": {
      "image/png": "[encoded data removed]",
      "text/plain": [
       "<Figure size 432x288 with 1 Axes>"
      ]
     },
     "metadata": {
      "needs_background": "light"
     },
     "output_type": "display_data"
    }
   ],
   "source": [
    "\n",
    "parameters = {'alpha':[0.00001,0.0005, 0.0001,0.005,0.001,0.05,0.01,0.1,0.5,1,5,10,50,100]}  \n",
    "svm=SGDClassifier(loss=\"hinge\")\n",
    "clf=GridSearchCV(svm,parameters,cv=3, scoring='roc_auc',return_train_score=True)       #hyper parameter tuning\n",
    "\n",
    "clf.fit(X, Y)    #fitting the SVM model with train data\n",
    "\n",
    "results = pd.DataFrame.from_dict(clf.cv_results_)   #storing Gridsearch results\n",
    "\n",
    "results = results.sort_values(['param_alpha'])\n",
    "\n",
    "train_auc= results['mean_train_score']       #storing required Gridsearch results in required variable\n",
    "train_auc_std= results['std_train_score']\n",
    "cv_auc = results['mean_test_score'] \n",
    "alpha =  results['param_alpha'].tolist()\n",
    "print(\" alpha--------->  \",alpha)\n",
    "print(\" log(alpha)------->  \",np.log10(alpha))\n",
    "\n",
    "plt.plot(np.log10(alpha), train_auc, label='Train AUC')\n",
    "plt.plot(np.log10(alpha), cv_auc, label='CV AUC')\n",
    "\n",
    "plt.scatter(np.log10(alpha), train_auc, label='Train AUC points')\n",
    "plt.scatter(np.log10(alpha), cv_auc, label='CV AUC points')\n",
    "plt.legend()\n",
    "plt.xlabel(\"log(alpha)\")\n",
    "plt.ylabel(\"AUC\")\n",
    "plt.title(\"Hyper parameter Vs AUC plot\")\n",
    "plt.grid()\n",
    "plt.show()\n",
    "#results.head"
   ]
  },
  {
   "cell_type": "code",
   "execution_count": 82,
   "metadata": {},
   "outputs": [],
   "source": [
    "best_model=SGDClassifier(loss=\"hinge\",alpha=1)   #creating model with best alpha\n",
    "best_model.fit(X,Y)\n",
    "best_model_accuracy=best_model.score(X, Y)\n",
    "weights=best_model.coef_                    #obtaining weight vectors\n",
    "\n",
    "#print(best_model_accuracy)"
   ]
  },
  {
   "cell_type": "markdown",
   "metadata": {},
   "source": [
    "# 3) modifying the original data(pertubation) and with that fitting the best model again "
   ]
  },
  {
   "cell_type": "code",
   "execution_count": 83,
   "metadata": {},
   "outputs": [],
   "source": [
    "X_pretubated=X+0.01    #adding small noise to the data"
   ]
  },
  {
   "cell_type": "code",
   "execution_count": 84,
   "metadata": {},
   "outputs": [],
   "source": [
    "best_model=SGDClassifier(loss=\"hinge\",alpha=1)      #fitting the pertubated data with the best alpha model\n",
    "best_model.fit(X_pretubated,Y)\n",
    "best_model_accuracy_edited=best_model.score(X_pretubated, Y)\n",
    "weights_edited=best_model.coef_\n"
   ]
  },
  {
   "cell_type": "markdown",
   "metadata": {},
   "source": [
    "# 4) Checking deviations in metric and weights "
   ]
  },
  {
   "cell_type": "code",
   "execution_count": 85,
   "metadata": {},
   "outputs": [],
   "source": [
    "precentage_change_in_weights=(abs(weights-weights_edited)/weights)*100\n",
    "absolute_precentage_change_in_weights=abs(precentage_change_in_weights)   #absolute value of percentage change in weight\n",
    "sorted_percentage_weight_index=(-absolute_precentage_change_in_weights).argsort()    #soring index according to the decenting order of absolute value of percentage change in weight "
   ]
  },
  {
   "cell_type": "code",
   "execution_count": 86,
   "metadata": {
    "scrolled": true
   },
   "outputs": [
    {
     "name": "stdout",
     "output_type": "stream",
     "text": [
      "x*x\n",
      "2*z+3*x*x\n",
      "w\n",
      "x\n"
     ]
    }
   ],
   "source": [
    "#printing the top 4 feature names which has most precentage change in weight after pertubation\n",
    "for n, i in enumerate( sorted_percentage_weight_index[0]):\n",
    "    if n <4:\n",
    "        print(feature_names[i])"
   ]
  },
  {
   "cell_type": "markdown",
   "metadata": {},
   "source": [
    "# Observation\n",
    "- we can see that when adding small noise(pertubating) to the dataset, the **top features which has higher percentage change in their respective weights** are all the features((ie, **highly collinear features**) which are combination of other basic non collinear features.\n",
    "\n",
    "\n",
    "- this is because these featuers are **combination of other non collinear features**.so adding pretubation to the non collinear features have effect on the collinear features with greater value.\n",
    "\n",
    "\n",
    "- these collinear features ruins the **interpretability of the model**.\n",
    "\n",
    "\n",
    "- so this pertubation method helps to find the highly collinear features and we can remove them to build robust model."
   ]
  }
 ],
 "metadata": {
  "colab": {
   "name": "8D_LR_SVM.ipynb",
   "provenance": []
  },
  "kernelspec": {
   "display_name": "Python 3 (ipykernel)",
   "language": "python",
   "name": "python3"
  },
  "language_info": {
   "codemirror_mode": {
    "name": "ipython",
    "version": 3
   },
   "file_extension": ".py",
   "mimetype": "text/x-python",
   "name": "python",
   "nbconvert_exporter": "python",
   "pygments_lexer": "ipython3",
   "version": "3.9.12"
  }
 },
 "nbformat": 4,
 "nbformat_minor": 1
}
